{
 "cells": [
  {
   "cell_type": "code",
   "execution_count": 1,
   "id": "96445e78",
   "metadata": {
    "_cell_guid": "b1076dfc-b9ad-4769-8c92-a6c4dae69d19",
    "_kg_hide-input": false,
    "_uuid": "8f2839f25d086af736a60e9eeb907d3b93b6e0e5",
    "execution": {
     "iopub.execute_input": "2023-12-19T13:23:36.924512Z",
     "iopub.status.busy": "2023-12-19T13:23:36.923779Z",
     "iopub.status.idle": "2023-12-19T13:23:42.889534Z",
     "shell.execute_reply": "2023-12-19T13:23:42.888196Z"
    },
    "papermill": {
     "duration": 5.978728,
     "end_time": "2023-12-19T13:23:42.892564",
     "exception": false,
     "start_time": "2023-12-19T13:23:36.913836",
     "status": "completed"
    },
    "tags": []
   },
   "outputs": [],
   "source": [
    "import os\n",
    "import gc\n",
    "import pickle\n",
    "\n",
    "import numpy as np\n",
    "import pandas as pd\n",
    "import polars as pl\n",
    "import plotly.express as px\n",
    "import pyarrow as pa\n",
    "\n",
    "from sklearn.ensemble import VotingRegressor\n",
    "\n",
    "import lightgbm as lgb\n",
    "from catboost import CatBoostRegressor"
   ]
  },
  {
   "cell_type": "code",
   "execution_count": 2,
   "id": "0464b23e",
   "metadata": {
    "_kg_hide-input": false,
    "execution": {
     "iopub.execute_input": "2023-12-19T13:23:42.908304Z",
     "iopub.status.busy": "2023-12-19T13:23:42.907776Z",
     "iopub.status.idle": "2023-12-19T13:24:15.048932Z",
     "shell.execute_reply": "2023-12-19T13:24:15.047599Z"
    },
    "papermill": {
     "duration": 32.152885,
     "end_time": "2023-12-19T13:24:15.052472",
     "exception": false,
     "start_time": "2023-12-19T13:23:42.899587",
     "status": "completed"
    },
    "tags": []
   },
   "outputs": [],
   "source": [
    "root = \"../kaggle/predict-energy-behavior-of-prosumers\"\n",
    "\n",
    "df_train = pd.read_csv(os.path.join(root, \"train.csv\"))\n",
    "df_client = pd.read_csv(os.path.join(root, \"client.csv\"))\n",
    "df_gas_prices = pd.read_csv(os.path.join(root, \"gas_prices.csv\"))\n",
    "df_electricity_prices = pd.read_csv(os.path.join(root, \"electricity_prices.csv\"))\n",
    "df_forecast_weather = pd.read_csv(os.path.join(root, \"forecast_weather.csv\"))\n",
    "df_historical_weather = pd.read_csv(os.path.join(root, \"historical_weather.csv\"))\n",
    "df_weather_station_to_county_mapping = pd.read_csv(os.path.join(root, \"weather_station_to_county_mapping.csv\"))"
   ]
  },
  {
   "cell_type": "code",
   "execution_count": 3,
   "id": "3e05006e",
   "metadata": {
    "execution": {
     "iopub.execute_input": "2023-12-19T13:24:15.068420Z",
     "iopub.status.busy": "2023-12-19T13:24:15.067707Z",
     "iopub.status.idle": "2023-12-19T13:24:15.082242Z",
     "shell.execute_reply": "2023-12-19T13:24:15.080937Z"
    },
    "papermill": {
     "duration": 0.025599,
     "end_time": "2023-12-19T13:24:15.084953",
     "exception": false,
     "start_time": "2023-12-19T13:24:15.059354",
     "status": "completed"
    },
    "tags": []
   },
   "outputs": [],
   "source": [
    "df_weather_station_to_county_mapping['size'] = 5"
   ]
  },
  {
   "cell_type": "code",
   "execution_count": 4,
   "id": "64e1dfad",
   "metadata": {
    "execution": {
     "iopub.execute_input": "2023-12-19T13:24:15.102081Z",
     "iopub.status.busy": "2023-12-19T13:24:15.100705Z",
     "iopub.status.idle": "2023-12-19T13:24:15.112254Z",
     "shell.execute_reply": "2023-12-19T13:24:15.110741Z"
    },
    "papermill": {
     "duration": 0.024077,
     "end_time": "2023-12-19T13:24:15.115566",
     "exception": false,
     "start_time": "2023-12-19T13:24:15.091489",
     "status": "completed"
    },
    "tags": []
   },
   "outputs": [],
   "source": [
    "root = \"../kaggle/predict-energy-behavior-of-prosumers\"\n",
    "\n",
    "data_cols = ['target', 'county', 'is_business', 'product_type', 'is_consumption', 'datetime', 'row_id']\n",
    "client_cols = ['product_type', 'county', 'eic_count', 'installed_capacity', 'is_business', 'date']\n",
    "gas_prices_cols = ['forecast_date', 'lowest_price_per_mwh', 'highest_price_per_mwh']\n",
    "electricity_prices_cols = ['forecast_date', 'euros_per_mwh']\n",
    "forecast_weather_cols = ['latitude', 'longitude', 'hours_ahead', 'temperature', 'dewpoint', 'cloudcover_high', 'cloudcover_low', 'cloudcover_mid', 'cloudcover_total', '10_metre_u_wind_component', '10_metre_v_wind_component', 'forecast_datetime', 'direct_solar_radiation', 'surface_solar_radiation_downwards', 'snowfall', 'total_precipitation']\n",
    "historical_weather_cols = ['datetime', 'temperature', 'dewpoint', 'rain', 'snowfall', 'surface_pressure','cloudcover_total','cloudcover_low','cloudcover_mid','cloudcover_high','windspeed_10m','winddirection_10m','shortwave_radiation','direct_solar_radiation','diffuse_radiation','latitude','longitude']\n",
    "location_cols = ['longitude', 'latitude', 'county']\n",
    "target_cols = ['target', 'county', 'is_business', 'product_type', 'is_consumption', 'datetime']"
   ]
  },
  {
   "cell_type": "code",
   "execution_count": 5,
   "id": "488dbe2e",
   "metadata": {
    "execution": {
     "iopub.execute_input": "2023-12-19T13:24:15.130722Z",
     "iopub.status.busy": "2023-12-19T13:24:15.130238Z",
     "iopub.status.idle": "2023-12-19T13:24:19.209767Z",
     "shell.execute_reply": "2023-12-19T13:24:19.208433Z"
    },
    "papermill": {
     "duration": 4.090754,
     "end_time": "2023-12-19T13:24:19.212817",
     "exception": false,
     "start_time": "2023-12-19T13:24:15.122063",
     "status": "completed"
    },
    "tags": []
   },
   "outputs": [],
   "source": [
    "df_data = pl.read_csv(os.path.join(root, \"train.csv\"), columns=data_cols, try_parse_dates=True)\n",
    "df_client = pl.read_csv(os.path.join(root, \"client.csv\"), columns=client_cols, try_parse_dates=True)\n",
    "df_gas_prices = pl.read_csv(os.path.join(root, \"gas_prices.csv\"), columns=gas_prices_cols, try_parse_dates=True)\n",
    "df_electricity_prices = pl.read_csv(os.path.join(root, \"electricity_prices.csv\"), columns=electricity_prices_cols, try_parse_dates=True)\n",
    "df_forecast_weather = pl.read_csv(os.path.join(root, \"forecast_weather.csv\"), columns=forecast_weather_cols, try_parse_dates=True)\n",
    "df_historical_weather = pl.read_csv(os.path.join(root, \"historical_weather.csv\"), columns=historical_weather_cols, try_parse_dates=True)\n",
    "df_weather_station_to_county_mapping = pl.read_csv(os.path.join(root, \"weather_station_to_county_mapping.csv\"), columns=location_cols, try_parse_dates=True)\n",
    "df_target = df_data.select(target_cols)\n",
    "\n",
    "schema_data = df_data.schema\n",
    "schema_client = df_client.schema\n",
    "schema_gas  = df_gas_prices.schema\n",
    "schema_electricity = df_electricity_prices.schema\n",
    "schema_forecast = df_forecast_weather.schema\n",
    "schema_historical = df_historical_weather.schema\n",
    "schema_target = df_target.schema"
   ]
  },
  {
   "cell_type": "code",
   "execution_count": null,
   "id": "214374fe",
   "metadata": {},
   "outputs": [],
   "source": [
    "df_data"
   ]
  },
  {
   "cell_type": "code",
   "execution_count": 6,
   "id": "732cf0b8",
   "metadata": {
    "execution": {
     "iopub.execute_input": "2023-12-19T13:24:19.228821Z",
     "iopub.status.busy": "2023-12-19T13:24:19.227953Z",
     "iopub.status.idle": "2023-12-19T13:24:19.269599Z",
     "shell.execute_reply": "2023-12-19T13:24:19.268517Z"
    },
    "papermill": {
     "duration": 0.05313,
     "end_time": "2023-12-19T13:24:19.272423",
     "exception": false,
     "start_time": "2023-12-19T13:24:19.219293",
     "status": "completed"
    },
    "tags": []
   },
   "outputs": [],
   "source": [
    "def generate_features(df_data, df_client, df_gas_prices, df_electricity_prices, df_forecast_weather, df_historical_weather, df_weather_station_to_county_mapping, df_target):\n",
    "    df_data = (\n",
    "        df_data.with_columns(pl.col(\"datetime\").cast(pl.Date).alias(\"date\"))\n",
    "    )\n",
    "    \n",
    "    df_gas_prices = (\n",
    "        df_gas_prices.rename({\"forecast_date\": \"date\"})\n",
    "    )\n",
    "    \n",
    "    df_electricity_prices = (\n",
    "        df_electricity_prices.rename({\"forecast_date\": \"datetime\"})\n",
    "    )\n",
    "    \n",
    "    df_weather_station_to_county_mapping = (\n",
    "        df_weather_station_to_county_mapping.with_columns(pl.col(\"latitude\").cast(pl.datatypes.Float32),pl.col(\"longitude\").cast(pl.datatypes.Float32))\n",
    "    )\n",
    "    \n",
    "    # sum of all product_type targets related to [\"datetime\", \"county\", \"is_business\", \"is_consumption\"]\n",
    "    df_target_all_type_sum = (\n",
    "        df_target.group_by([\"datetime\", \"county\", \"is_business\", \"is_consumption\"]).sum().drop(\"product_type\")\n",
    "    )\n",
    "    \n",
    "    df_forecast_weather = (\n",
    "        df_forecast_weather.rename({\"forecast_datetime\": \"datetime\"}).filter(pl.col(\"hours_ahead\") >= 24) # we don't need forecast for today\n",
    "        .with_columns(pl.col(\"latitude\").cast(pl.datatypes.Float32),pl.col(\"longitude\").cast(pl.datatypes.Float32),\n",
    "            # datetime for forecast in a different timezone\n",
    "            pl.col('datetime').dt.replace_time_zone(None).cast(pl.Datetime(\"us\")),\n",
    "        )\n",
    "        .join(df_weather_station_to_county_mapping, how=\"left\", on=[\"longitude\", \"latitude\"]).drop(\"longitude\", \"latitude\")\n",
    "    )\n",
    "    \n",
    "    df_historical_weather = (\n",
    "        df_historical_weather\n",
    "        .with_columns(pl.col(\"latitude\").cast(pl.datatypes.Float32),pl.col(\"longitude\").cast(pl.datatypes.Float32),\n",
    "        )\n",
    "        .join(df_weather_station_to_county_mapping, how=\"left\", on=[\"longitude\", \"latitude\"]).drop(\"longitude\", \"latitude\")\n",
    "    )\n",
    "    \n",
    "    # creating average forecast characteristics for all weather stations\n",
    "    df_forecast_weather_date = (\n",
    "        df_forecast_weather.group_by(\"datetime\").mean().drop(\"county\")\n",
    "    )\n",
    "    \n",
    "    # creating average forecast characteristics for weather stations related to county\n",
    "    df_forecast_weather_local = (\n",
    "        df_forecast_weather.filter(pl.col(\"county\").is_not_null()).group_by(\"county\", \"datetime\").mean()\n",
    "    )\n",
    "    \n",
    "    # creating average historical characteristics for all weather stations\n",
    "    df_historical_weather_date = (\n",
    "        df_historical_weather.group_by(\"datetime\").mean().drop(\"county\")\n",
    "    )\n",
    "    \n",
    "    # creating average historical characteristics for weather stations related to county\n",
    "    df_historical_weather_local = (\n",
    "        df_historical_weather.filter(pl.col(\"county\").is_not_null()).group_by(\"county\", \"datetime\").mean()\n",
    "    )\n",
    "    \n",
    "    df_data = (\n",
    "        df_data\n",
    "        # pl.duration(days=1) shifts datetime to join lag features (usually we join last available values)\n",
    "        .join(df_gas_prices.with_columns((pl.col(\"date\") + pl.duration(days=1)).cast(pl.Date)), on=\"date\", how=\"left\")\n",
    "        .join(df_client.with_columns((pl.col(\"date\") + pl.duration(days=2)).cast(pl.Date)), on=[\"county\", \"is_business\", \"product_type\", \"date\"], how=\"left\")\n",
    "        .join(df_electricity_prices.with_columns(pl.col(\"datetime\") + pl.duration(days=1)), on=\"datetime\", how=\"left\")\n",
    "        \n",
    "        # lag forecast_weather features (24 hours * days)\n",
    "        .join(df_forecast_weather_date, on=\"datetime\", how=\"left\", suffix=\"_fd\")\n",
    "        .join(df_forecast_weather_local, on=[\"county\", \"datetime\"], how=\"left\", suffix=\"_fl\")\n",
    "        .join(df_forecast_weather_date.with_columns(pl.col(\"datetime\") + pl.duration(days=7)), on=\"datetime\", how=\"left\", suffix=\"_fd_7d\")\n",
    "        .join(df_forecast_weather_local.with_columns(pl.col(\"datetime\") + pl.duration(days=7)), on=[\"county\", \"datetime\"], how=\"left\", suffix=\"_fl_7d\")\n",
    "\n",
    "        # lag historical_weather features (24 hours * days)\n",
    "        .join(df_historical_weather_date.with_columns(pl.col(\"datetime\") + pl.duration(days=2)), on=\"datetime\", how=\"left\", suffix=\"_hd_2d\")\n",
    "        .join(df_historical_weather_local.with_columns(pl.col(\"datetime\") + pl.duration(days=2)), on=[\"county\", \"datetime\"], how=\"left\", suffix=\"_hl_2d\")\n",
    "        .join(df_historical_weather_date.with_columns(pl.col(\"datetime\") + pl.duration(days=7)), on=\"datetime\", how=\"left\", suffix=\"_hd_7d\")\n",
    "        .join(df_historical_weather_local.with_columns(pl.col(\"datetime\") + pl.duration(days=7)), on=[\"county\", \"datetime\"], how=\"left\", suffix=\"_hl_7d\")\n",
    "        \n",
    "        # lag target features (24 hours * days)\n",
    "        .join(df_target.with_columns(pl.col(\"datetime\") + pl.duration(days=2)).rename({\"target\": \"target_1\"}), on=[\"county\", \"is_business\", \"product_type\", \"is_consumption\", \"datetime\"], how=\"left\")\n",
    "        .join(df_target.with_columns(pl.col(\"datetime\") + pl.duration(days=3)).rename({\"target\": \"target_2\"}), on=[\"county\", \"is_business\", \"product_type\", \"is_consumption\", \"datetime\"], how=\"left\")\n",
    "        .join(df_target.with_columns(pl.col(\"datetime\") + pl.duration(days=4)).rename({\"target\": \"target_3\"}), on=[\"county\", \"is_business\", \"product_type\", \"is_consumption\", \"datetime\"], how=\"left\")\n",
    "        .join(df_target.with_columns(pl.col(\"datetime\") + pl.duration(days=5)).rename({\"target\": \"target_4\"}), on=[\"county\", \"is_business\", \"product_type\", \"is_consumption\", \"datetime\"], how=\"left\")\n",
    "        .join(df_target.with_columns(pl.col(\"datetime\") + pl.duration(days=6)).rename({\"target\": \"target_5\"}), on=[\"county\", \"is_business\", \"product_type\", \"is_consumption\", \"datetime\"], how=\"left\")\n",
    "        .join(df_target.with_columns(pl.col(\"datetime\") + pl.duration(days=7)).rename({\"target\": \"target_6\"}), on=[\"county\", \"is_business\", \"product_type\", \"is_consumption\", \"datetime\"], how=\"left\")\n",
    "        .join(df_target.with_columns(pl.col(\"datetime\") + pl.duration(days=14)).rename({\"target\": \"target_7\"}), on=[\"county\", \"is_business\", \"product_type\", \"is_consumption\", \"datetime\"], how=\"left\")\n",
    "        \n",
    "        .join(df_target_all_type_sum.with_columns(pl.col(\"datetime\") + pl.duration(days=2)).rename({\"target\": \"target_1\"}), on=[\"county\", \"is_business\", \"is_consumption\", \"datetime\"], suffix=\"_all_type_sum\", how=\"left\")\n",
    "        .join(df_target_all_type_sum.with_columns(pl.col(\"datetime\") + pl.duration(days=3)).rename({\"target\": \"target_2\"}), on=[\"county\", \"is_business\", \"is_consumption\", \"datetime\"], suffix=\"_all_type_sum\", how=\"left\")\n",
    "        .join(df_target_all_type_sum.with_columns(pl.col(\"datetime\") + pl.duration(days=7)).rename({\"target\": \"target_6\"}), on=[\"county\", \"is_business\", \"is_consumption\", \"datetime\"], suffix=\"_all_type_sum\", how=\"left\")\n",
    "        .join(df_target_all_type_sum.with_columns(pl.col(\"datetime\") + pl.duration(days=14)).rename({\"target\": \"target_7\"}), on=[\"county\", \"is_business\", \"is_consumption\", \"datetime\"], suffix=\"_all_type_sum\", how=\"left\")\n",
    "        \n",
    "        \n",
    "        .with_columns(\n",
    "            pl.col(\"datetime\").dt.ordinal_day().alias(\"dayofyear\"),\n",
    "            pl.col(\"datetime\").dt.hour().alias(\"hour\"),\n",
    "            pl.col(\"datetime\").dt.day().alias(\"day\"),\n",
    "            pl.col(\"datetime\").dt.weekday().alias(\"weekday\"),\n",
    "            pl.col(\"datetime\").dt.month().alias(\"month\"),\n",
    "            pl.col(\"datetime\").dt.year().alias(\"year\"),\n",
    "        )\n",
    "        .with_columns(\n",
    "            pl.concat_str(\"county\", \"is_business\", \"product_type\", \"is_consumption\", separator=\"_\").alias(\"segment\"),\n",
    "        )\n",
    "        # cyclical features encoding https://towardsdatascience.com/cyclical-features-encoding-its-about-time-ce23581845ca\n",
    "        .with_columns(\n",
    "            (np.pi * pl.col(\"dayofyear\") / 183).sin().alias(\"sin(dayofyear)\"),\n",
    "            (np.pi * pl.col(\"dayofyear\") / 183).cos().alias(\"cos(dayofyear)\"),\n",
    "            (np.pi * pl.col(\"hour\") / 12).sin().alias(\"sin(hour)\"),\n",
    "            (np.pi * pl.col(\"hour\") / 12).cos().alias(\"cos(hour)\"),\n",
    "        )\n",
    "        .with_columns(\n",
    "            pl.col(pl.Float64).cast(pl.Float32),\n",
    "        )\n",
    "        \n",
    "        .drop(\"date\", \"datetime\", \"hour\", \"dayofyear\")\n",
    "    )\n",
    "    \n",
    "    return df_data"
   ]
  },
  {
   "cell_type": "code",
   "execution_count": 7,
   "id": "cf9535a9",
   "metadata": {
    "execution": {
     "iopub.execute_input": "2023-12-19T13:24:19.288073Z",
     "iopub.status.busy": "2023-12-19T13:24:19.287196Z",
     "iopub.status.idle": "2023-12-19T13:24:19.297399Z",
     "shell.execute_reply": "2023-12-19T13:24:19.296232Z"
    },
    "papermill": {
     "duration": 0.020954,
     "end_time": "2023-12-19T13:24:19.299957",
     "exception": false,
     "start_time": "2023-12-19T13:24:19.279003",
     "status": "completed"
    },
    "tags": []
   },
   "outputs": [],
   "source": [
    "def to_pandas(X, y=None):\n",
    "    cat_cols = [\"county\", \"is_business\", \"product_type\", \"is_consumption\", \"segment\"]\n",
    "    \n",
    "    if y is not None:\n",
    "        df = pd.concat([X.to_pandas(), y.to_pandas()], axis=1)\n",
    "    else:\n",
    "        df = X.to_pandas()    \n",
    "    \n",
    "    df = df.set_index(\"row_id\")\n",
    "    df[cat_cols] = df[cat_cols].astype(\"category\")\n",
    "    \n",
    "    df[\"target_mean\"] = df[[f\"target_{i}\" for i in range(1, 7)]].mean(1)\n",
    "    df[\"target_std\"] = df[[f\"target_{i}\" for i in range(1, 7)]].std(1)\n",
    "    df[\"target_ratio\"] = df[\"target_6\"] / (df[\"target_7\"] + 1e-3)\n",
    "    \n",
    "    return df"
   ]
  },
  {
   "cell_type": "code",
   "execution_count": 8,
   "id": "437d9c5f",
   "metadata": {
    "execution": {
     "iopub.execute_input": "2023-12-19T13:24:19.316642Z",
     "iopub.status.busy": "2023-12-19T13:24:19.316176Z",
     "iopub.status.idle": "2023-12-19T13:24:40.540930Z",
     "shell.execute_reply": "2023-12-19T13:24:40.539841Z"
    },
    "papermill": {
     "duration": 21.236458,
     "end_time": "2023-12-19T13:24:40.544194",
     "exception": false,
     "start_time": "2023-12-19T13:24:19.307736",
     "status": "completed"
    },
    "tags": []
   },
   "outputs": [],
   "source": [
    "df_data, y = df_data.drop(\"target\"), df_data.select(\"target\")\n",
    "\n",
    "df_train_features = generate_features(df_data, df_client, df_gas_prices, df_electricity_prices, df_forecast_weather, df_historical_weather, df_weather_station_to_county_mapping, df_target)\n",
    "\n",
    "df_train_features = to_pandas(df_train_features, y)\n",
    "# a little proportion of target values are null\n",
    "df_train_features = df_train_features[df_train_features['target'].notnull()]\n",
    "\n",
    "# filter old data\n",
    "df_train_features = df_train_features[df_train_features.year >= 2022]"
   ]
  },
  {
   "cell_type": "code",
   "execution_count": 9,
   "id": "6418c7a6",
   "metadata": {
    "execution": {
     "iopub.execute_input": "2023-12-19T13:24:40.560482Z",
     "iopub.status.busy": "2023-12-19T13:24:40.559188Z",
     "iopub.status.idle": "2023-12-19T13:24:40.570513Z",
     "shell.execute_reply": "2023-12-19T13:24:40.569437Z"
    },
    "papermill": {
     "duration": 0.021949,
     "end_time": "2023-12-19T13:24:40.573013",
     "exception": false,
     "start_time": "2023-12-19T13:24:40.551064",
     "status": "completed"
    },
    "tags": []
   },
   "outputs": [],
   "source": [
    "p1={'n_iter': 2000,'verbose': -1,'objective': 'l2','metric': 'mae','path_smooth': 0.02,'learning_rate': 0.05073909898961407, 'colsample_bytree': 0.726023996436955, 'colsample_bynode': 0.5803681307354022, 'lambda_l1': 8.562963348932286, 'lambda_l2': 4.893256185259296, 'min_data_in_leaf': 115, 'max_depth': 23, 'max_bin': 898}\n",
    "p2={'n_iter': 2000,'verbose': -1,'objective': 'l2','metric': 'mae','path_smooth': 0.02,'learning_rate': 0.05670084478292278, 'colsample_bytree': 0.6440444070196796, 'colsample_bynode': 0.637635804565811, 'lambda_l1': 6.29090474401462, 'lambda_l2': 6.775341543233317, 'min_data_in_leaf': 95, 'max_depth': 9, 'max_bin': 630}\n",
    "p3={'n_iter': 2000,'verbose': -1,'objective': 'l2','metric': 'mae','path_smooth': 0.02,'learning_rate': 0.0632167263149817, 'colsample_bytree': 0.6958033941948067, 'colsample_bynode': 0.6030801666196094, 'lambda_l1': 7.137580620471935, 'lambda_l2': 9.348169401713742, 'min_data_in_leaf': 74, 'max_depth': 11, 'max_bin': 530}\n",
    "p7={'n_iter': 2000,'verbose': -1,'objective': 'l2','metric': 'mae','path_smooth': 0.02,'learning_rate': 0.05689066836106983, 'colsample_bytree': 0.8915976762048253, 'colsample_bynode': 0.5942203285139224, 'lambda_l1': 7.6277555139102864, 'lambda_l2': 6.6591278779517808, 'min_data_in_leaf' : 156, 'max_depth': 11, 'max_bin': 813}"
   ]
  },
  {
   "cell_type": "code",
   "execution_count": 10,
   "id": "483c2828",
   "metadata": {
    "execution": {
     "iopub.execute_input": "2023-12-19T13:24:40.588328Z",
     "iopub.status.busy": "2023-12-19T13:24:40.587809Z",
     "iopub.status.idle": "2023-12-19T13:24:40.600279Z",
     "shell.execute_reply": "2023-12-19T13:24:40.599027Z"
    },
    "papermill": {
     "duration": 0.023085,
     "end_time": "2023-12-19T13:24:40.602704",
     "exception": false,
     "start_time": "2023-12-19T13:24:40.579619",
     "status": "completed"
    },
    "tags": []
   },
   "outputs": [],
   "source": [
    "n2={'n_iter': 2000,'verbose': -1,'objective': 'l2','metric': 'mae','path_smooth': 0.02,'learning_rate': 0.06374412210841121, 'colsample_bytree': 0.802532086057236, 'colsample_bynode': 0.6184668009383631, 'lambda_l1': 3.541225815063327, 'lambda_l2': 4.182917449907721, 'min_data_in_leaf': 243, 'max_depth': 20, 'max_bin': 927}\n",
    "n3={'n_iter': 2000,'verbose': -1,'objective': 'l2','metric': 'mae','path_smooth': 0.02,'learning_rate': 0.050109948518126106, 'colsample_bytree': 0.6614170916069634, 'colsample_bynode': 0.5762169749649555, 'lambda_l1': 9.742269162448217, 'lambda_l2': 4.255738302869081, 'min_data_in_leaf': 76, 'max_depth': 24, 'max_bin': 710}\n",
    "n4={'n_iter': 2000,'verbose': -1,'objective': 'l2','metric': 'mae','path_smooth': 0.02,'learning_rate': 0.06171183899427052, 'colsample_bytree': 0.677081696428741, 'colsample_bynode': 0.622629956472166, 'lambda_l1': 8.45243483881818, 'lambda_l2': 7.4259913857699225, 'min_data_in_leaf': 56, 'max_depth': 16, 'max_bin': 672}\n",
    "n5={'n_iter': 2000,'verbose': -1,'objective': 'l2','metric': 'mae','path_smooth': 0.02,'learning_rate': 0.049696057413079676, 'colsample_bytree': 0.7841866462664909, 'colsample_bynode': 0.6395921892446194, 'lambda_l1': 8.366574247816253, 'lambda_l2': 6.23160731836862, 'min_data_in_leaf': 78, 'max_depth': 21, 'max_bin': 889}\n",
    "n6={'n_iter': 2000,'verbose': -1,'objective': 'l2','metric': 'mae','path_smooth': 0.02,'learning_rate': 0.050613582357911066, 'colsample_bytree': 0.7381356406195783, 'colsample_bynode': 0.6102298223257949, 'lambda_l1': 9.28925884796848, 'lambda_l2': 6.676852148753467, 'min_data_in_leaf': 86, 'max_depth': 23, 'max_bin': 823}"
   ]
  },
  {
   "cell_type": "code",
   "execution_count": 11,
   "id": "2be0ed85",
   "metadata": {
    "execution": {
     "iopub.execute_input": "2023-12-19T13:24:40.617800Z",
     "iopub.status.busy": "2023-12-19T13:24:40.617370Z",
     "iopub.status.idle": "2023-12-19T13:24:40.623820Z",
     "shell.execute_reply": "2023-12-19T13:24:40.622700Z"
    },
    "papermill": {
     "duration": 0.016983,
     "end_time": "2023-12-19T13:24:40.626177",
     "exception": false,
     "start_time": "2023-12-19T13:24:40.609194",
     "status": "completed"
    },
    "tags": []
   },
   "outputs": [],
   "source": [
    "mx={'n_iter': 2000,'verbose': -1,'objective': 'l2','metric': 'mae','path_smooth': 0.02,'learning_rate':0.057616202767611306, 'colsample_bytree':0.9314998144122667, 'colsample_bynode':0.8001091683962097, 'lambda_l1':7.2392725854842395, 'lambda_l2':7.9043125960594915, 'min_data_in_leaf':85, 'max_depth':14, 'max_bin':687}"
   ]
  },
  {
   "cell_type": "markdown",
   "id": "1ce67e3b",
   "metadata": {
    "papermill": {
     "duration": 0.006184,
     "end_time": "2023-12-19T13:24:40.638751",
     "exception": false,
     "start_time": "2023-12-19T13:24:40.632567",
     "status": "completed"
    },
    "tags": []
   },
   "source": [
    "# Model"
   ]
  },
  {
   "cell_type": "code",
   "execution_count": 12,
   "id": "1faebd42",
   "metadata": {
    "execution": {
     "iopub.execute_input": "2023-12-19T13:24:40.654008Z",
     "iopub.status.busy": "2023-12-19T13:24:40.653553Z",
     "iopub.status.idle": "2023-12-19T15:32:01.723781Z",
     "shell.execute_reply": "2023-12-19T15:32:01.722293Z"
    },
    "papermill": {
     "duration": 7641.089232,
     "end_time": "2023-12-19T15:32:01.734564",
     "exception": false,
     "start_time": "2023-12-19T13:24:40.645332",
     "status": "completed"
    },
    "tags": []
   },
   "outputs": [
    {
     "name": "stderr",
     "output_type": "stream",
     "text": [
      "/opt/homebrew/lib/python3.11/site-packages/lightgbm/engine.py:172: UserWarning: Found `n_iter` in params. Will use it instead of argument\n",
      "  _log_warning(f\"Found `{alias}` in params. Will use it instead of argument\")\n"
     ]
    },
    {
     "ename": "KeyboardInterrupt",
     "evalue": "",
     "output_type": "error",
     "traceback": [
      "\u001b[0;31m---------------------------------------------------------------------------\u001b[0m",
      "\u001b[0;31mKeyboardInterrupt\u001b[0m                         Traceback (most recent call last)",
      "Cell \u001b[0;32mIn[12], line 31\u001b[0m\n\u001b[1;32m     15\u001b[0m model_production \u001b[38;5;241m=\u001b[39m VotingRegressor([\n\u001b[1;32m     16\u001b[0m         (\u001b[38;5;124m'\u001b[39m\u001b[38;5;124mlgb_10\u001b[39m\u001b[38;5;124m'\u001b[39m, lgb\u001b[38;5;241m.\u001b[39mLGBMRegressor(\u001b[38;5;241m*\u001b[39m\u001b[38;5;241m*\u001b[39mp1, random_state\u001b[38;5;241m=\u001b[39m\u001b[38;5;241m42\u001b[39m)),\n\u001b[1;32m     17\u001b[0m         (\u001b[38;5;124m'\u001b[39m\u001b[38;5;124mlgb_11\u001b[39m\u001b[38;5;124m'\u001b[39m, lgb\u001b[38;5;241m.\u001b[39mLGBMRegressor(\u001b[38;5;241m*\u001b[39m\u001b[38;5;241m*\u001b[39mn2, random_state\u001b[38;5;241m=\u001b[39m\u001b[38;5;241m42\u001b[39m)),\n\u001b[0;32m   (...)\u001b[0m\n\u001b[1;32m     25\u001b[0m         (\u001b[38;5;124m'\u001b[39m\u001b[38;5;124mlgb_19\u001b[39m\u001b[38;5;124m'\u001b[39m, lgb\u001b[38;5;241m.\u001b[39mLGBMRegressor(\u001b[38;5;241m*\u001b[39m\u001b[38;5;241m*\u001b[39mn6, random_state\u001b[38;5;241m=\u001b[39m\u001b[38;5;241m42\u001b[39m)),\n\u001b[1;32m     26\u001b[0m ],weights\u001b[38;5;241m=\u001b[39m[\u001b[38;5;241m0.14\u001b[39m,\u001b[38;5;241m0.13\u001b[39m,\u001b[38;5;241m0.08\u001b[39m,\u001b[38;5;241m0.11\u001b[39m,\u001b[38;5;241m0.09\u001b[39m,\u001b[38;5;241m0.1\u001b[39m,\u001b[38;5;241m0.09\u001b[39m,\u001b[38;5;241m0.07\u001b[39m,\u001b[38;5;241m0.12\u001b[39m,\u001b[38;5;241m0.07\u001b[39m])\n\u001b[1;32m     30\u001b[0m mask \u001b[38;5;241m=\u001b[39m df_train_features[\u001b[38;5;124m'\u001b[39m\u001b[38;5;124mis_consumption\u001b[39m\u001b[38;5;124m'\u001b[39m] \u001b[38;5;241m==\u001b[39m \u001b[38;5;241m1\u001b[39m\n\u001b[0;32m---> 31\u001b[0m \u001b[43mmodel_consumption\u001b[49m\u001b[38;5;241;43m.\u001b[39;49m\u001b[43mfit\u001b[49m\u001b[43m(\u001b[49m\n\u001b[1;32m     32\u001b[0m \u001b[43m    \u001b[49m\u001b[43mX\u001b[49m\u001b[38;5;241;43m=\u001b[39;49m\u001b[43mdf_train_features\u001b[49m\u001b[43m[\u001b[49m\u001b[43mmask\u001b[49m\u001b[43m]\u001b[49m\u001b[38;5;241;43m.\u001b[39;49m\u001b[43mdrop\u001b[49m\u001b[43m(\u001b[49m\u001b[43mcolumns\u001b[49m\u001b[38;5;241;43m=\u001b[39;49m\u001b[43m[\u001b[49m\u001b[38;5;124;43m\"\u001b[39;49m\u001b[38;5;124;43mtarget\u001b[39;49m\u001b[38;5;124;43m\"\u001b[39;49m\u001b[43m]\u001b[49m\u001b[43m)\u001b[49m\u001b[43m,\u001b[49m\n\u001b[1;32m     33\u001b[0m \u001b[43m    \u001b[49m\u001b[43my\u001b[49m\u001b[38;5;241;43m=\u001b[39;49m\u001b[43mdf_train_features\u001b[49m\u001b[43m[\u001b[49m\u001b[43mmask\u001b[49m\u001b[43m]\u001b[49m\u001b[43m[\u001b[49m\u001b[38;5;124;43m\"\u001b[39;49m\u001b[38;5;124;43mtarget\u001b[39;49m\u001b[38;5;124;43m\"\u001b[39;49m\u001b[43m]\u001b[49m\n\u001b[1;32m     34\u001b[0m \u001b[43m)\u001b[49m\n\u001b[1;32m     36\u001b[0m mask \u001b[38;5;241m=\u001b[39m df_train_features[\u001b[38;5;124m'\u001b[39m\u001b[38;5;124mis_consumption\u001b[39m\u001b[38;5;124m'\u001b[39m] \u001b[38;5;241m==\u001b[39m \u001b[38;5;241m0\u001b[39m\n\u001b[1;32m     37\u001b[0m model_production\u001b[38;5;241m.\u001b[39mfit(\n\u001b[1;32m     38\u001b[0m     X\u001b[38;5;241m=\u001b[39mdf_train_features[mask]\u001b[38;5;241m.\u001b[39mdrop(columns\u001b[38;5;241m=\u001b[39m[\u001b[38;5;124m\"\u001b[39m\u001b[38;5;124mtarget\u001b[39m\u001b[38;5;124m\"\u001b[39m]),\n\u001b[1;32m     39\u001b[0m     y\u001b[38;5;241m=\u001b[39mdf_train_features[mask][\u001b[38;5;124m\"\u001b[39m\u001b[38;5;124mtarget\u001b[39m\u001b[38;5;124m\"\u001b[39m]\n\u001b[1;32m     40\u001b[0m )\n",
      "File \u001b[0;32m/opt/homebrew/lib/python3.11/site-packages/sklearn/base.py:1152\u001b[0m, in \u001b[0;36m_fit_context.<locals>.decorator.<locals>.wrapper\u001b[0;34m(estimator, *args, **kwargs)\u001b[0m\n\u001b[1;32m   1145\u001b[0m     estimator\u001b[38;5;241m.\u001b[39m_validate_params()\n\u001b[1;32m   1147\u001b[0m \u001b[38;5;28;01mwith\u001b[39;00m config_context(\n\u001b[1;32m   1148\u001b[0m     skip_parameter_validation\u001b[38;5;241m=\u001b[39m(\n\u001b[1;32m   1149\u001b[0m         prefer_skip_nested_validation \u001b[38;5;129;01mor\u001b[39;00m global_skip_validation\n\u001b[1;32m   1150\u001b[0m     )\n\u001b[1;32m   1151\u001b[0m ):\n\u001b[0;32m-> 1152\u001b[0m     \u001b[38;5;28;01mreturn\u001b[39;00m \u001b[43mfit_method\u001b[49m\u001b[43m(\u001b[49m\u001b[43mestimator\u001b[49m\u001b[43m,\u001b[49m\u001b[43m \u001b[49m\u001b[38;5;241;43m*\u001b[39;49m\u001b[43margs\u001b[49m\u001b[43m,\u001b[49m\u001b[43m \u001b[49m\u001b[38;5;241;43m*\u001b[39;49m\u001b[38;5;241;43m*\u001b[39;49m\u001b[43mkwargs\u001b[49m\u001b[43m)\u001b[49m\n",
      "File \u001b[0;32m/opt/homebrew/lib/python3.11/site-packages/sklearn/ensemble/_voting.py:605\u001b[0m, in \u001b[0;36mVotingRegressor.fit\u001b[0;34m(self, X, y, sample_weight)\u001b[0m\n\u001b[1;32m    583\u001b[0m \u001b[38;5;250m\u001b[39m\u001b[38;5;124;03m\"\"\"Fit the estimators.\u001b[39;00m\n\u001b[1;32m    584\u001b[0m \n\u001b[1;32m    585\u001b[0m \u001b[38;5;124;03mParameters\u001b[39;00m\n\u001b[0;32m   (...)\u001b[0m\n\u001b[1;32m    602\u001b[0m \u001b[38;5;124;03m    Fitted estimator.\u001b[39;00m\n\u001b[1;32m    603\u001b[0m \u001b[38;5;124;03m\"\"\"\u001b[39;00m\n\u001b[1;32m    604\u001b[0m y \u001b[38;5;241m=\u001b[39m column_or_1d(y, warn\u001b[38;5;241m=\u001b[39m\u001b[38;5;28;01mTrue\u001b[39;00m)\n\u001b[0;32m--> 605\u001b[0m \u001b[38;5;28;01mreturn\u001b[39;00m \u001b[38;5;28;43msuper\u001b[39;49m\u001b[43m(\u001b[49m\u001b[43m)\u001b[49m\u001b[38;5;241;43m.\u001b[39;49m\u001b[43mfit\u001b[49m\u001b[43m(\u001b[49m\u001b[43mX\u001b[49m\u001b[43m,\u001b[49m\u001b[43m \u001b[49m\u001b[43my\u001b[49m\u001b[43m,\u001b[49m\u001b[43m \u001b[49m\u001b[43msample_weight\u001b[49m\u001b[43m)\u001b[49m\n",
      "File \u001b[0;32m/opt/homebrew/lib/python3.11/site-packages/sklearn/ensemble/_voting.py:81\u001b[0m, in \u001b[0;36m_BaseVoting.fit\u001b[0;34m(self, X, y, sample_weight)\u001b[0m\n\u001b[1;32m     75\u001b[0m \u001b[38;5;28;01mif\u001b[39;00m \u001b[38;5;28mself\u001b[39m\u001b[38;5;241m.\u001b[39mweights \u001b[38;5;129;01mis\u001b[39;00m \u001b[38;5;129;01mnot\u001b[39;00m \u001b[38;5;28;01mNone\u001b[39;00m \u001b[38;5;129;01mand\u001b[39;00m \u001b[38;5;28mlen\u001b[39m(\u001b[38;5;28mself\u001b[39m\u001b[38;5;241m.\u001b[39mweights) \u001b[38;5;241m!=\u001b[39m \u001b[38;5;28mlen\u001b[39m(\u001b[38;5;28mself\u001b[39m\u001b[38;5;241m.\u001b[39mestimators):\n\u001b[1;32m     76\u001b[0m     \u001b[38;5;28;01mraise\u001b[39;00m \u001b[38;5;167;01mValueError\u001b[39;00m(\n\u001b[1;32m     77\u001b[0m         \u001b[38;5;124m\"\u001b[39m\u001b[38;5;124mNumber of `estimators` and weights must be equal; got\u001b[39m\u001b[38;5;124m\"\u001b[39m\n\u001b[1;32m     78\u001b[0m         \u001b[38;5;124mf\u001b[39m\u001b[38;5;124m\"\u001b[39m\u001b[38;5;124m \u001b[39m\u001b[38;5;132;01m{\u001b[39;00m\u001b[38;5;28mlen\u001b[39m(\u001b[38;5;28mself\u001b[39m\u001b[38;5;241m.\u001b[39mweights)\u001b[38;5;132;01m}\u001b[39;00m\u001b[38;5;124m weights, \u001b[39m\u001b[38;5;132;01m{\u001b[39;00m\u001b[38;5;28mlen\u001b[39m(\u001b[38;5;28mself\u001b[39m\u001b[38;5;241m.\u001b[39mestimators)\u001b[38;5;132;01m}\u001b[39;00m\u001b[38;5;124m estimators\u001b[39m\u001b[38;5;124m\"\u001b[39m\n\u001b[1;32m     79\u001b[0m     )\n\u001b[0;32m---> 81\u001b[0m \u001b[38;5;28mself\u001b[39m\u001b[38;5;241m.\u001b[39mestimators_ \u001b[38;5;241m=\u001b[39m \u001b[43mParallel\u001b[49m\u001b[43m(\u001b[49m\u001b[43mn_jobs\u001b[49m\u001b[38;5;241;43m=\u001b[39;49m\u001b[38;5;28;43mself\u001b[39;49m\u001b[38;5;241;43m.\u001b[39;49m\u001b[43mn_jobs\u001b[49m\u001b[43m)\u001b[49m\u001b[43m(\u001b[49m\n\u001b[1;32m     82\u001b[0m \u001b[43m    \u001b[49m\u001b[43mdelayed\u001b[49m\u001b[43m(\u001b[49m\u001b[43m_fit_single_estimator\u001b[49m\u001b[43m)\u001b[49m\u001b[43m(\u001b[49m\n\u001b[1;32m     83\u001b[0m \u001b[43m        \u001b[49m\u001b[43mclone\u001b[49m\u001b[43m(\u001b[49m\u001b[43mclf\u001b[49m\u001b[43m)\u001b[49m\u001b[43m,\u001b[49m\n\u001b[1;32m     84\u001b[0m \u001b[43m        \u001b[49m\u001b[43mX\u001b[49m\u001b[43m,\u001b[49m\n\u001b[1;32m     85\u001b[0m \u001b[43m        \u001b[49m\u001b[43my\u001b[49m\u001b[43m,\u001b[49m\n\u001b[1;32m     86\u001b[0m \u001b[43m        \u001b[49m\u001b[43msample_weight\u001b[49m\u001b[38;5;241;43m=\u001b[39;49m\u001b[43msample_weight\u001b[49m\u001b[43m,\u001b[49m\n\u001b[1;32m     87\u001b[0m \u001b[43m        \u001b[49m\u001b[43mmessage_clsname\u001b[49m\u001b[38;5;241;43m=\u001b[39;49m\u001b[38;5;124;43m\"\u001b[39;49m\u001b[38;5;124;43mVoting\u001b[39;49m\u001b[38;5;124;43m\"\u001b[39;49m\u001b[43m,\u001b[49m\n\u001b[1;32m     88\u001b[0m \u001b[43m        \u001b[49m\u001b[43mmessage\u001b[49m\u001b[38;5;241;43m=\u001b[39;49m\u001b[38;5;28;43mself\u001b[39;49m\u001b[38;5;241;43m.\u001b[39;49m\u001b[43m_log_message\u001b[49m\u001b[43m(\u001b[49m\u001b[43mnames\u001b[49m\u001b[43m[\u001b[49m\u001b[43midx\u001b[49m\u001b[43m]\u001b[49m\u001b[43m,\u001b[49m\u001b[43m \u001b[49m\u001b[43midx\u001b[49m\u001b[43m \u001b[49m\u001b[38;5;241;43m+\u001b[39;49m\u001b[43m \u001b[49m\u001b[38;5;241;43m1\u001b[39;49m\u001b[43m,\u001b[49m\u001b[43m \u001b[49m\u001b[38;5;28;43mlen\u001b[39;49m\u001b[43m(\u001b[49m\u001b[43mclfs\u001b[49m\u001b[43m)\u001b[49m\u001b[43m)\u001b[49m\u001b[43m,\u001b[49m\n\u001b[1;32m     89\u001b[0m \u001b[43m    \u001b[49m\u001b[43m)\u001b[49m\n\u001b[1;32m     90\u001b[0m \u001b[43m    \u001b[49m\u001b[38;5;28;43;01mfor\u001b[39;49;00m\u001b[43m \u001b[49m\u001b[43midx\u001b[49m\u001b[43m,\u001b[49m\u001b[43m \u001b[49m\u001b[43mclf\u001b[49m\u001b[43m \u001b[49m\u001b[38;5;129;43;01min\u001b[39;49;00m\u001b[43m \u001b[49m\u001b[38;5;28;43menumerate\u001b[39;49m\u001b[43m(\u001b[49m\u001b[43mclfs\u001b[49m\u001b[43m)\u001b[49m\n\u001b[1;32m     91\u001b[0m \u001b[43m    \u001b[49m\u001b[38;5;28;43;01mif\u001b[39;49;00m\u001b[43m \u001b[49m\u001b[43mclf\u001b[49m\u001b[43m \u001b[49m\u001b[38;5;241;43m!=\u001b[39;49m\u001b[43m \u001b[49m\u001b[38;5;124;43m\"\u001b[39;49m\u001b[38;5;124;43mdrop\u001b[39;49m\u001b[38;5;124;43m\"\u001b[39;49m\n\u001b[1;32m     92\u001b[0m \u001b[43m\u001b[49m\u001b[43m)\u001b[49m\n\u001b[1;32m     94\u001b[0m \u001b[38;5;28mself\u001b[39m\u001b[38;5;241m.\u001b[39mnamed_estimators_ \u001b[38;5;241m=\u001b[39m Bunch()\n\u001b[1;32m     96\u001b[0m \u001b[38;5;66;03m# Uses 'drop' as placeholder for dropped estimators\u001b[39;00m\n",
      "File \u001b[0;32m/opt/homebrew/lib/python3.11/site-packages/sklearn/utils/parallel.py:65\u001b[0m, in \u001b[0;36mParallel.__call__\u001b[0;34m(self, iterable)\u001b[0m\n\u001b[1;32m     60\u001b[0m config \u001b[38;5;241m=\u001b[39m get_config()\n\u001b[1;32m     61\u001b[0m iterable_with_config \u001b[38;5;241m=\u001b[39m (\n\u001b[1;32m     62\u001b[0m     (_with_config(delayed_func, config), args, kwargs)\n\u001b[1;32m     63\u001b[0m     \u001b[38;5;28;01mfor\u001b[39;00m delayed_func, args, kwargs \u001b[38;5;129;01min\u001b[39;00m iterable\n\u001b[1;32m     64\u001b[0m )\n\u001b[0;32m---> 65\u001b[0m \u001b[38;5;28;01mreturn\u001b[39;00m \u001b[38;5;28;43msuper\u001b[39;49m\u001b[43m(\u001b[49m\u001b[43m)\u001b[49m\u001b[38;5;241;43m.\u001b[39;49m\u001b[38;5;21;43m__call__\u001b[39;49m\u001b[43m(\u001b[49m\u001b[43miterable_with_config\u001b[49m\u001b[43m)\u001b[49m\n",
      "File \u001b[0;32m/opt/homebrew/lib/python3.11/site-packages/joblib/parallel.py:1863\u001b[0m, in \u001b[0;36mParallel.__call__\u001b[0;34m(self, iterable)\u001b[0m\n\u001b[1;32m   1861\u001b[0m     output \u001b[38;5;241m=\u001b[39m \u001b[38;5;28mself\u001b[39m\u001b[38;5;241m.\u001b[39m_get_sequential_output(iterable)\n\u001b[1;32m   1862\u001b[0m     \u001b[38;5;28mnext\u001b[39m(output)\n\u001b[0;32m-> 1863\u001b[0m     \u001b[38;5;28;01mreturn\u001b[39;00m output \u001b[38;5;28;01mif\u001b[39;00m \u001b[38;5;28mself\u001b[39m\u001b[38;5;241m.\u001b[39mreturn_generator \u001b[38;5;28;01melse\u001b[39;00m \u001b[38;5;28;43mlist\u001b[39;49m\u001b[43m(\u001b[49m\u001b[43moutput\u001b[49m\u001b[43m)\u001b[49m\n\u001b[1;32m   1865\u001b[0m \u001b[38;5;66;03m# Let's create an ID that uniquely identifies the current call. If the\u001b[39;00m\n\u001b[1;32m   1866\u001b[0m \u001b[38;5;66;03m# call is interrupted early and that the same instance is immediately\u001b[39;00m\n\u001b[1;32m   1867\u001b[0m \u001b[38;5;66;03m# re-used, this id will be used to prevent workers that were\u001b[39;00m\n\u001b[1;32m   1868\u001b[0m \u001b[38;5;66;03m# concurrently finalizing a task from the previous call to run the\u001b[39;00m\n\u001b[1;32m   1869\u001b[0m \u001b[38;5;66;03m# callback.\u001b[39;00m\n\u001b[1;32m   1870\u001b[0m \u001b[38;5;28;01mwith\u001b[39;00m \u001b[38;5;28mself\u001b[39m\u001b[38;5;241m.\u001b[39m_lock:\n",
      "File \u001b[0;32m/opt/homebrew/lib/python3.11/site-packages/joblib/parallel.py:1792\u001b[0m, in \u001b[0;36mParallel._get_sequential_output\u001b[0;34m(self, iterable)\u001b[0m\n\u001b[1;32m   1790\u001b[0m \u001b[38;5;28mself\u001b[39m\u001b[38;5;241m.\u001b[39mn_dispatched_batches \u001b[38;5;241m+\u001b[39m\u001b[38;5;241m=\u001b[39m \u001b[38;5;241m1\u001b[39m\n\u001b[1;32m   1791\u001b[0m \u001b[38;5;28mself\u001b[39m\u001b[38;5;241m.\u001b[39mn_dispatched_tasks \u001b[38;5;241m+\u001b[39m\u001b[38;5;241m=\u001b[39m \u001b[38;5;241m1\u001b[39m\n\u001b[0;32m-> 1792\u001b[0m res \u001b[38;5;241m=\u001b[39m \u001b[43mfunc\u001b[49m\u001b[43m(\u001b[49m\u001b[38;5;241;43m*\u001b[39;49m\u001b[43margs\u001b[49m\u001b[43m,\u001b[49m\u001b[43m \u001b[49m\u001b[38;5;241;43m*\u001b[39;49m\u001b[38;5;241;43m*\u001b[39;49m\u001b[43mkwargs\u001b[49m\u001b[43m)\u001b[49m\n\u001b[1;32m   1793\u001b[0m \u001b[38;5;28mself\u001b[39m\u001b[38;5;241m.\u001b[39mn_completed_tasks \u001b[38;5;241m+\u001b[39m\u001b[38;5;241m=\u001b[39m \u001b[38;5;241m1\u001b[39m\n\u001b[1;32m   1794\u001b[0m \u001b[38;5;28mself\u001b[39m\u001b[38;5;241m.\u001b[39mprint_progress()\n",
      "File \u001b[0;32m/opt/homebrew/lib/python3.11/site-packages/sklearn/utils/parallel.py:127\u001b[0m, in \u001b[0;36m_FuncWrapper.__call__\u001b[0;34m(self, *args, **kwargs)\u001b[0m\n\u001b[1;32m    125\u001b[0m     config \u001b[38;5;241m=\u001b[39m {}\n\u001b[1;32m    126\u001b[0m \u001b[38;5;28;01mwith\u001b[39;00m config_context(\u001b[38;5;241m*\u001b[39m\u001b[38;5;241m*\u001b[39mconfig):\n\u001b[0;32m--> 127\u001b[0m     \u001b[38;5;28;01mreturn\u001b[39;00m \u001b[38;5;28;43mself\u001b[39;49m\u001b[38;5;241;43m.\u001b[39;49m\u001b[43mfunction\u001b[49m\u001b[43m(\u001b[49m\u001b[38;5;241;43m*\u001b[39;49m\u001b[43margs\u001b[49m\u001b[43m,\u001b[49m\u001b[43m \u001b[49m\u001b[38;5;241;43m*\u001b[39;49m\u001b[38;5;241;43m*\u001b[39;49m\u001b[43mkwargs\u001b[49m\u001b[43m)\u001b[49m\n",
      "File \u001b[0;32m/opt/homebrew/lib/python3.11/site-packages/sklearn/ensemble/_base.py:36\u001b[0m, in \u001b[0;36m_fit_single_estimator\u001b[0;34m(estimator, X, y, sample_weight, message_clsname, message)\u001b[0m\n\u001b[1;32m     34\u001b[0m \u001b[38;5;28;01melse\u001b[39;00m:\n\u001b[1;32m     35\u001b[0m     \u001b[38;5;28;01mwith\u001b[39;00m _print_elapsed_time(message_clsname, message):\n\u001b[0;32m---> 36\u001b[0m         \u001b[43mestimator\u001b[49m\u001b[38;5;241;43m.\u001b[39;49m\u001b[43mfit\u001b[49m\u001b[43m(\u001b[49m\u001b[43mX\u001b[49m\u001b[43m,\u001b[49m\u001b[43m \u001b[49m\u001b[43my\u001b[49m\u001b[43m)\u001b[49m\n\u001b[1;32m     37\u001b[0m \u001b[38;5;28;01mreturn\u001b[39;00m estimator\n",
      "File \u001b[0;32m/opt/homebrew/lib/python3.11/site-packages/lightgbm/sklearn.py:1049\u001b[0m, in \u001b[0;36mLGBMRegressor.fit\u001b[0;34m(self, X, y, sample_weight, init_score, eval_set, eval_names, eval_sample_weight, eval_init_score, eval_metric, feature_name, categorical_feature, callbacks, init_model)\u001b[0m\n\u001b[1;32m   1032\u001b[0m \u001b[38;5;28;01mdef\u001b[39;00m \u001b[38;5;21mfit\u001b[39m(  \u001b[38;5;66;03m# type: ignore[override]\u001b[39;00m\n\u001b[1;32m   1033\u001b[0m     \u001b[38;5;28mself\u001b[39m,\n\u001b[1;32m   1034\u001b[0m     X: _LGBM_ScikitMatrixLike,\n\u001b[0;32m   (...)\u001b[0m\n\u001b[1;32m   1046\u001b[0m     init_model: Optional[Union[\u001b[38;5;28mstr\u001b[39m, Path, Booster, LGBMModel]] \u001b[38;5;241m=\u001b[39m \u001b[38;5;28;01mNone\u001b[39;00m\n\u001b[1;32m   1047\u001b[0m ) \u001b[38;5;241m-\u001b[39m\u001b[38;5;241m>\u001b[39m \u001b[38;5;124m\"\u001b[39m\u001b[38;5;124mLGBMRegressor\u001b[39m\u001b[38;5;124m\"\u001b[39m:\n\u001b[1;32m   1048\u001b[0m \u001b[38;5;250m    \u001b[39m\u001b[38;5;124;03m\"\"\"Docstring is inherited from the LGBMModel.\"\"\"\u001b[39;00m\n\u001b[0;32m-> 1049\u001b[0m     \u001b[38;5;28;43msuper\u001b[39;49m\u001b[43m(\u001b[49m\u001b[43m)\u001b[49m\u001b[38;5;241;43m.\u001b[39;49m\u001b[43mfit\u001b[49m\u001b[43m(\u001b[49m\n\u001b[1;32m   1050\u001b[0m \u001b[43m        \u001b[49m\u001b[43mX\u001b[49m\u001b[43m,\u001b[49m\n\u001b[1;32m   1051\u001b[0m \u001b[43m        \u001b[49m\u001b[43my\u001b[49m\u001b[43m,\u001b[49m\n\u001b[1;32m   1052\u001b[0m \u001b[43m        \u001b[49m\u001b[43msample_weight\u001b[49m\u001b[38;5;241;43m=\u001b[39;49m\u001b[43msample_weight\u001b[49m\u001b[43m,\u001b[49m\n\u001b[1;32m   1053\u001b[0m \u001b[43m        \u001b[49m\u001b[43minit_score\u001b[49m\u001b[38;5;241;43m=\u001b[39;49m\u001b[43minit_score\u001b[49m\u001b[43m,\u001b[49m\n\u001b[1;32m   1054\u001b[0m \u001b[43m        \u001b[49m\u001b[43meval_set\u001b[49m\u001b[38;5;241;43m=\u001b[39;49m\u001b[43meval_set\u001b[49m\u001b[43m,\u001b[49m\n\u001b[1;32m   1055\u001b[0m \u001b[43m        \u001b[49m\u001b[43meval_names\u001b[49m\u001b[38;5;241;43m=\u001b[39;49m\u001b[43meval_names\u001b[49m\u001b[43m,\u001b[49m\n\u001b[1;32m   1056\u001b[0m \u001b[43m        \u001b[49m\u001b[43meval_sample_weight\u001b[49m\u001b[38;5;241;43m=\u001b[39;49m\u001b[43meval_sample_weight\u001b[49m\u001b[43m,\u001b[49m\n\u001b[1;32m   1057\u001b[0m \u001b[43m        \u001b[49m\u001b[43meval_init_score\u001b[49m\u001b[38;5;241;43m=\u001b[39;49m\u001b[43meval_init_score\u001b[49m\u001b[43m,\u001b[49m\n\u001b[1;32m   1058\u001b[0m \u001b[43m        \u001b[49m\u001b[43meval_metric\u001b[49m\u001b[38;5;241;43m=\u001b[39;49m\u001b[43meval_metric\u001b[49m\u001b[43m,\u001b[49m\n\u001b[1;32m   1059\u001b[0m \u001b[43m        \u001b[49m\u001b[43mfeature_name\u001b[49m\u001b[38;5;241;43m=\u001b[39;49m\u001b[43mfeature_name\u001b[49m\u001b[43m,\u001b[49m\n\u001b[1;32m   1060\u001b[0m \u001b[43m        \u001b[49m\u001b[43mcategorical_feature\u001b[49m\u001b[38;5;241;43m=\u001b[39;49m\u001b[43mcategorical_feature\u001b[49m\u001b[43m,\u001b[49m\n\u001b[1;32m   1061\u001b[0m \u001b[43m        \u001b[49m\u001b[43mcallbacks\u001b[49m\u001b[38;5;241;43m=\u001b[39;49m\u001b[43mcallbacks\u001b[49m\u001b[43m,\u001b[49m\n\u001b[1;32m   1062\u001b[0m \u001b[43m        \u001b[49m\u001b[43minit_model\u001b[49m\u001b[38;5;241;43m=\u001b[39;49m\u001b[43minit_model\u001b[49m\n\u001b[1;32m   1063\u001b[0m \u001b[43m    \u001b[49m\u001b[43m)\u001b[49m\n\u001b[1;32m   1064\u001b[0m     \u001b[38;5;28;01mreturn\u001b[39;00m \u001b[38;5;28mself\u001b[39m\n",
      "File \u001b[0;32m/opt/homebrew/lib/python3.11/site-packages/lightgbm/sklearn.py:842\u001b[0m, in \u001b[0;36mLGBMModel.fit\u001b[0;34m(self, X, y, sample_weight, init_score, group, eval_set, eval_names, eval_sample_weight, eval_class_weight, eval_init_score, eval_group, eval_metric, feature_name, categorical_feature, callbacks, init_model)\u001b[0m\n\u001b[1;32m    839\u001b[0m evals_result: _EvalResultDict \u001b[38;5;241m=\u001b[39m {}\n\u001b[1;32m    840\u001b[0m callbacks\u001b[38;5;241m.\u001b[39mappend(record_evaluation(evals_result))\n\u001b[0;32m--> 842\u001b[0m \u001b[38;5;28mself\u001b[39m\u001b[38;5;241m.\u001b[39m_Booster \u001b[38;5;241m=\u001b[39m \u001b[43mtrain\u001b[49m\u001b[43m(\u001b[49m\n\u001b[1;32m    843\u001b[0m \u001b[43m    \u001b[49m\u001b[43mparams\u001b[49m\u001b[38;5;241;43m=\u001b[39;49m\u001b[43mparams\u001b[49m\u001b[43m,\u001b[49m\n\u001b[1;32m    844\u001b[0m \u001b[43m    \u001b[49m\u001b[43mtrain_set\u001b[49m\u001b[38;5;241;43m=\u001b[39;49m\u001b[43mtrain_set\u001b[49m\u001b[43m,\u001b[49m\n\u001b[1;32m    845\u001b[0m \u001b[43m    \u001b[49m\u001b[43mnum_boost_round\u001b[49m\u001b[38;5;241;43m=\u001b[39;49m\u001b[38;5;28;43mself\u001b[39;49m\u001b[38;5;241;43m.\u001b[39;49m\u001b[43mn_estimators\u001b[49m\u001b[43m,\u001b[49m\n\u001b[1;32m    846\u001b[0m \u001b[43m    \u001b[49m\u001b[43mvalid_sets\u001b[49m\u001b[38;5;241;43m=\u001b[39;49m\u001b[43mvalid_sets\u001b[49m\u001b[43m,\u001b[49m\n\u001b[1;32m    847\u001b[0m \u001b[43m    \u001b[49m\u001b[43mvalid_names\u001b[49m\u001b[38;5;241;43m=\u001b[39;49m\u001b[43meval_names\u001b[49m\u001b[43m,\u001b[49m\n\u001b[1;32m    848\u001b[0m \u001b[43m    \u001b[49m\u001b[43mfeval\u001b[49m\u001b[38;5;241;43m=\u001b[39;49m\u001b[43meval_metrics_callable\u001b[49m\u001b[43m,\u001b[49m\u001b[43m  \u001b[49m\u001b[38;5;66;43;03m# type: ignore[arg-type]\u001b[39;49;00m\n\u001b[1;32m    849\u001b[0m \u001b[43m    \u001b[49m\u001b[43minit_model\u001b[49m\u001b[38;5;241;43m=\u001b[39;49m\u001b[43minit_model\u001b[49m\u001b[43m,\u001b[49m\n\u001b[1;32m    850\u001b[0m \u001b[43m    \u001b[49m\u001b[43mfeature_name\u001b[49m\u001b[38;5;241;43m=\u001b[39;49m\u001b[43mfeature_name\u001b[49m\u001b[43m,\u001b[49m\n\u001b[1;32m    851\u001b[0m \u001b[43m    \u001b[49m\u001b[43mcallbacks\u001b[49m\u001b[38;5;241;43m=\u001b[39;49m\u001b[43mcallbacks\u001b[49m\n\u001b[1;32m    852\u001b[0m \u001b[43m\u001b[49m\u001b[43m)\u001b[49m\n\u001b[1;32m    854\u001b[0m \u001b[38;5;28mself\u001b[39m\u001b[38;5;241m.\u001b[39m_evals_result \u001b[38;5;241m=\u001b[39m evals_result\n\u001b[1;32m    855\u001b[0m \u001b[38;5;28mself\u001b[39m\u001b[38;5;241m.\u001b[39m_best_iteration \u001b[38;5;241m=\u001b[39m \u001b[38;5;28mself\u001b[39m\u001b[38;5;241m.\u001b[39m_Booster\u001b[38;5;241m.\u001b[39mbest_iteration\n",
      "File \u001b[0;32m/opt/homebrew/lib/python3.11/site-packages/lightgbm/engine.py:255\u001b[0m, in \u001b[0;36mtrain\u001b[0;34m(params, train_set, num_boost_round, valid_sets, valid_names, feval, init_model, feature_name, categorical_feature, keep_training_booster, callbacks)\u001b[0m\n\u001b[1;32m    253\u001b[0m \u001b[38;5;66;03m# construct booster\u001b[39;00m\n\u001b[1;32m    254\u001b[0m \u001b[38;5;28;01mtry\u001b[39;00m:\n\u001b[0;32m--> 255\u001b[0m     booster \u001b[38;5;241m=\u001b[39m \u001b[43mBooster\u001b[49m\u001b[43m(\u001b[49m\u001b[43mparams\u001b[49m\u001b[38;5;241;43m=\u001b[39;49m\u001b[43mparams\u001b[49m\u001b[43m,\u001b[49m\u001b[43m \u001b[49m\u001b[43mtrain_set\u001b[49m\u001b[38;5;241;43m=\u001b[39;49m\u001b[43mtrain_set\u001b[49m\u001b[43m)\u001b[49m\n\u001b[1;32m    256\u001b[0m     \u001b[38;5;28;01mif\u001b[39;00m is_valid_contain_train:\n\u001b[1;32m    257\u001b[0m         booster\u001b[38;5;241m.\u001b[39mset_train_data_name(train_data_name)\n",
      "File \u001b[0;32m/opt/homebrew/lib/python3.11/site-packages/lightgbm/basic.py:3200\u001b[0m, in \u001b[0;36mBooster.__init__\u001b[0;34m(self, params, train_set, model_file, model_str)\u001b[0m\n\u001b[1;32m   3193\u001b[0m     \u001b[38;5;28mself\u001b[39m\u001b[38;5;241m.\u001b[39mset_network(\n\u001b[1;32m   3194\u001b[0m         machines\u001b[38;5;241m=\u001b[39mmachines,\n\u001b[1;32m   3195\u001b[0m         local_listen_port\u001b[38;5;241m=\u001b[39mparams[\u001b[38;5;124m\"\u001b[39m\u001b[38;5;124mlocal_listen_port\u001b[39m\u001b[38;5;124m\"\u001b[39m],\n\u001b[1;32m   3196\u001b[0m         listen_time_out\u001b[38;5;241m=\u001b[39mparams\u001b[38;5;241m.\u001b[39mget(\u001b[38;5;124m\"\u001b[39m\u001b[38;5;124mtime_out\u001b[39m\u001b[38;5;124m\"\u001b[39m, \u001b[38;5;241m120\u001b[39m),\n\u001b[1;32m   3197\u001b[0m         num_machines\u001b[38;5;241m=\u001b[39mparams[\u001b[38;5;124m\"\u001b[39m\u001b[38;5;124mnum_machines\u001b[39m\u001b[38;5;124m\"\u001b[39m]\n\u001b[1;32m   3198\u001b[0m     )\n\u001b[1;32m   3199\u001b[0m \u001b[38;5;66;03m# construct booster object\u001b[39;00m\n\u001b[0;32m-> 3200\u001b[0m \u001b[43mtrain_set\u001b[49m\u001b[38;5;241;43m.\u001b[39;49m\u001b[43mconstruct\u001b[49m\u001b[43m(\u001b[49m\u001b[43m)\u001b[49m\n\u001b[1;32m   3201\u001b[0m \u001b[38;5;66;03m# copy the parameters from train_set\u001b[39;00m\n\u001b[1;32m   3202\u001b[0m params\u001b[38;5;241m.\u001b[39mupdate(train_set\u001b[38;5;241m.\u001b[39mget_params())\n",
      "File \u001b[0;32m/opt/homebrew/lib/python3.11/site-packages/lightgbm/basic.py:2276\u001b[0m, in \u001b[0;36mDataset.construct\u001b[0;34m(self)\u001b[0m\n\u001b[1;32m   2269\u001b[0m             \u001b[38;5;28mself\u001b[39m\u001b[38;5;241m.\u001b[39m_set_init_score_by_predictor(\n\u001b[1;32m   2270\u001b[0m                 predictor\u001b[38;5;241m=\u001b[39m\u001b[38;5;28mself\u001b[39m\u001b[38;5;241m.\u001b[39m_predictor,\n\u001b[1;32m   2271\u001b[0m                 data\u001b[38;5;241m=\u001b[39m\u001b[38;5;28mself\u001b[39m\u001b[38;5;241m.\u001b[39mdata,\n\u001b[1;32m   2272\u001b[0m                 used_indices\u001b[38;5;241m=\u001b[39mused_indices\n\u001b[1;32m   2273\u001b[0m             )\n\u001b[1;32m   2274\u001b[0m \u001b[38;5;28;01melse\u001b[39;00m:\n\u001b[1;32m   2275\u001b[0m     \u001b[38;5;66;03m# create train\u001b[39;00m\n\u001b[0;32m-> 2276\u001b[0m     \u001b[38;5;28;43mself\u001b[39;49m\u001b[38;5;241;43m.\u001b[39;49m\u001b[43m_lazy_init\u001b[49m\u001b[43m(\u001b[49m\u001b[43mdata\u001b[49m\u001b[38;5;241;43m=\u001b[39;49m\u001b[38;5;28;43mself\u001b[39;49m\u001b[38;5;241;43m.\u001b[39;49m\u001b[43mdata\u001b[49m\u001b[43m,\u001b[49m\u001b[43m \u001b[49m\u001b[43mlabel\u001b[49m\u001b[38;5;241;43m=\u001b[39;49m\u001b[38;5;28;43mself\u001b[39;49m\u001b[38;5;241;43m.\u001b[39;49m\u001b[43mlabel\u001b[49m\u001b[43m,\u001b[49m\u001b[43m \u001b[49m\u001b[43mreference\u001b[49m\u001b[38;5;241;43m=\u001b[39;49m\u001b[38;5;28;43;01mNone\u001b[39;49;00m\u001b[43m,\u001b[49m\n\u001b[1;32m   2277\u001b[0m \u001b[43m                    \u001b[49m\u001b[43mweight\u001b[49m\u001b[38;5;241;43m=\u001b[39;49m\u001b[38;5;28;43mself\u001b[39;49m\u001b[38;5;241;43m.\u001b[39;49m\u001b[43mweight\u001b[49m\u001b[43m,\u001b[49m\u001b[43m \u001b[49m\u001b[43mgroup\u001b[49m\u001b[38;5;241;43m=\u001b[39;49m\u001b[38;5;28;43mself\u001b[39;49m\u001b[38;5;241;43m.\u001b[39;49m\u001b[43mgroup\u001b[49m\u001b[43m,\u001b[49m\n\u001b[1;32m   2278\u001b[0m \u001b[43m                    \u001b[49m\u001b[43minit_score\u001b[49m\u001b[38;5;241;43m=\u001b[39;49m\u001b[38;5;28;43mself\u001b[39;49m\u001b[38;5;241;43m.\u001b[39;49m\u001b[43minit_score\u001b[49m\u001b[43m,\u001b[49m\u001b[43m \u001b[49m\u001b[43mpredictor\u001b[49m\u001b[38;5;241;43m=\u001b[39;49m\u001b[38;5;28;43mself\u001b[39;49m\u001b[38;5;241;43m.\u001b[39;49m\u001b[43m_predictor\u001b[49m\u001b[43m,\u001b[49m\n\u001b[1;32m   2279\u001b[0m \u001b[43m                    \u001b[49m\u001b[43mfeature_name\u001b[49m\u001b[38;5;241;43m=\u001b[39;49m\u001b[38;5;28;43mself\u001b[39;49m\u001b[38;5;241;43m.\u001b[39;49m\u001b[43mfeature_name\u001b[49m\u001b[43m,\u001b[49m\u001b[43m \u001b[49m\u001b[43mcategorical_feature\u001b[49m\u001b[38;5;241;43m=\u001b[39;49m\u001b[38;5;28;43mself\u001b[39;49m\u001b[38;5;241;43m.\u001b[39;49m\u001b[43mcategorical_feature\u001b[49m\u001b[43m,\u001b[49m\n\u001b[1;32m   2280\u001b[0m \u001b[43m                    \u001b[49m\u001b[43mparams\u001b[49m\u001b[38;5;241;43m=\u001b[39;49m\u001b[38;5;28;43mself\u001b[39;49m\u001b[38;5;241;43m.\u001b[39;49m\u001b[43mparams\u001b[49m\u001b[43m,\u001b[49m\u001b[43m \u001b[49m\u001b[43mposition\u001b[49m\u001b[38;5;241;43m=\u001b[39;49m\u001b[38;5;28;43mself\u001b[39;49m\u001b[38;5;241;43m.\u001b[39;49m\u001b[43mposition\u001b[49m\u001b[43m)\u001b[49m\n\u001b[1;32m   2281\u001b[0m \u001b[38;5;28;01mif\u001b[39;00m \u001b[38;5;28mself\u001b[39m\u001b[38;5;241m.\u001b[39mfree_raw_data:\n\u001b[1;32m   2282\u001b[0m     \u001b[38;5;28mself\u001b[39m\u001b[38;5;241m.\u001b[39mdata \u001b[38;5;241m=\u001b[39m \u001b[38;5;28;01mNone\u001b[39;00m\n",
      "File \u001b[0;32m/opt/homebrew/lib/python3.11/site-packages/lightgbm/basic.py:1918\u001b[0m, in \u001b[0;36mDataset._lazy_init\u001b[0;34m(self, data, label, reference, weight, group, init_score, predictor, feature_name, categorical_feature, params, position)\u001b[0m\n\u001b[1;32m   1916\u001b[0m     \u001b[38;5;28mself\u001b[39m\u001b[38;5;241m.\u001b[39m__init_from_csc(data, params_str, ref_dataset)\n\u001b[1;32m   1917\u001b[0m \u001b[38;5;28;01melif\u001b[39;00m \u001b[38;5;28misinstance\u001b[39m(data, np\u001b[38;5;241m.\u001b[39mndarray):\n\u001b[0;32m-> 1918\u001b[0m     \u001b[38;5;28;43mself\u001b[39;49m\u001b[38;5;241;43m.\u001b[39;49m\u001b[43m__init_from_np2d\u001b[49m\u001b[43m(\u001b[49m\u001b[43mdata\u001b[49m\u001b[43m,\u001b[49m\u001b[43m \u001b[49m\u001b[43mparams_str\u001b[49m\u001b[43m,\u001b[49m\u001b[43m \u001b[49m\u001b[43mref_dataset\u001b[49m\u001b[43m)\u001b[49m\n\u001b[1;32m   1919\u001b[0m \u001b[38;5;28;01melif\u001b[39;00m \u001b[38;5;28misinstance\u001b[39m(data, \u001b[38;5;28mlist\u001b[39m) \u001b[38;5;129;01mand\u001b[39;00m \u001b[38;5;28mlen\u001b[39m(data) \u001b[38;5;241m>\u001b[39m \u001b[38;5;241m0\u001b[39m:\n\u001b[1;32m   1920\u001b[0m     \u001b[38;5;28;01mif\u001b[39;00m \u001b[38;5;28mall\u001b[39m(\u001b[38;5;28misinstance\u001b[39m(x, np\u001b[38;5;241m.\u001b[39mndarray) \u001b[38;5;28;01mfor\u001b[39;00m x \u001b[38;5;129;01min\u001b[39;00m data):\n",
      "File \u001b[0;32m/opt/homebrew/lib/python3.11/site-packages/lightgbm/basic.py:2054\u001b[0m, in \u001b[0;36mDataset.__init_from_np2d\u001b[0;34m(self, mat, params_str, ref_dataset)\u001b[0m\n\u001b[1;32m   2051\u001b[0m     data \u001b[38;5;241m=\u001b[39m np\u001b[38;5;241m.\u001b[39marray(mat\u001b[38;5;241m.\u001b[39mreshape(mat\u001b[38;5;241m.\u001b[39msize), dtype\u001b[38;5;241m=\u001b[39mnp\u001b[38;5;241m.\u001b[39mfloat32)\n\u001b[1;32m   2053\u001b[0m ptr_data, type_ptr_data, _ \u001b[38;5;241m=\u001b[39m _c_float_array(data)\n\u001b[0;32m-> 2054\u001b[0m _safe_call(\u001b[43m_LIB\u001b[49m\u001b[38;5;241;43m.\u001b[39;49m\u001b[43mLGBM_DatasetCreateFromMat\u001b[49m\u001b[43m(\u001b[49m\n\u001b[1;32m   2055\u001b[0m \u001b[43m    \u001b[49m\u001b[43mptr_data\u001b[49m\u001b[43m,\u001b[49m\n\u001b[1;32m   2056\u001b[0m \u001b[43m    \u001b[49m\u001b[43mctypes\u001b[49m\u001b[38;5;241;43m.\u001b[39;49m\u001b[43mc_int\u001b[49m\u001b[43m(\u001b[49m\u001b[43mtype_ptr_data\u001b[49m\u001b[43m)\u001b[49m\u001b[43m,\u001b[49m\n\u001b[1;32m   2057\u001b[0m \u001b[43m    \u001b[49m\u001b[43mctypes\u001b[49m\u001b[38;5;241;43m.\u001b[39;49m\u001b[43mc_int32\u001b[49m\u001b[43m(\u001b[49m\u001b[43mmat\u001b[49m\u001b[38;5;241;43m.\u001b[39;49m\u001b[43mshape\u001b[49m\u001b[43m[\u001b[49m\u001b[38;5;241;43m0\u001b[39;49m\u001b[43m]\u001b[49m\u001b[43m)\u001b[49m\u001b[43m,\u001b[49m\n\u001b[1;32m   2058\u001b[0m \u001b[43m    \u001b[49m\u001b[43mctypes\u001b[49m\u001b[38;5;241;43m.\u001b[39;49m\u001b[43mc_int32\u001b[49m\u001b[43m(\u001b[49m\u001b[43mmat\u001b[49m\u001b[38;5;241;43m.\u001b[39;49m\u001b[43mshape\u001b[49m\u001b[43m[\u001b[49m\u001b[38;5;241;43m1\u001b[39;49m\u001b[43m]\u001b[49m\u001b[43m)\u001b[49m\u001b[43m,\u001b[49m\n\u001b[1;32m   2059\u001b[0m \u001b[43m    \u001b[49m\u001b[43mctypes\u001b[49m\u001b[38;5;241;43m.\u001b[39;49m\u001b[43mc_int\u001b[49m\u001b[43m(\u001b[49m\u001b[43m_C_API_IS_ROW_MAJOR\u001b[49m\u001b[43m)\u001b[49m\u001b[43m,\u001b[49m\n\u001b[1;32m   2060\u001b[0m \u001b[43m    \u001b[49m\u001b[43m_c_str\u001b[49m\u001b[43m(\u001b[49m\u001b[43mparams_str\u001b[49m\u001b[43m)\u001b[49m\u001b[43m,\u001b[49m\n\u001b[1;32m   2061\u001b[0m \u001b[43m    \u001b[49m\u001b[43mref_dataset\u001b[49m\u001b[43m,\u001b[49m\n\u001b[1;32m   2062\u001b[0m \u001b[43m    \u001b[49m\u001b[43mctypes\u001b[49m\u001b[38;5;241;43m.\u001b[39;49m\u001b[43mbyref\u001b[49m\u001b[43m(\u001b[49m\u001b[38;5;28;43mself\u001b[39;49m\u001b[38;5;241;43m.\u001b[39;49m\u001b[43m_handle\u001b[49m\u001b[43m)\u001b[49m\u001b[43m)\u001b[49m)\n\u001b[1;32m   2063\u001b[0m \u001b[38;5;28;01mreturn\u001b[39;00m \u001b[38;5;28mself\u001b[39m\n",
      "\u001b[0;31mKeyboardInterrupt\u001b[0m: "
     ]
    }
   ],
   "source": [
    "model_consumption = VotingRegressor([\n",
    "        ('lgb_0', lgb.LGBMRegressor(**p1, random_state=42)),\n",
    "        ('lgb_1', lgb.LGBMRegressor(**n2, random_state=42)),\n",
    "        ('lgb_2', lgb.LGBMRegressor(**mx, random_state=42)), \n",
    "        ('lgb_3', lgb.LGBMRegressor(**p2, random_state=42)), \n",
    "        ('lgb_4', lgb.LGBMRegressor(**p3, random_state=42)), \n",
    "        ('lgb_5', lgb.LGBMRegressor(**n3, random_state=42)), \n",
    "        ('lgb_6', lgb.LGBMRegressor(**n4, random_state=42)), \n",
    "        ('lgb_7', lgb.LGBMRegressor(**n5, random_state=42)),\n",
    "        ('lgb_8', lgb.LGBMRegressor(**p7, random_state=42)),\n",
    "        ('lgb_9', lgb.LGBMRegressor(**n6, random_state=42)),\n",
    "],weights=[0.14,0.13,0.08,0.11,0.09,0.1,0.09,0.07,0.12,0.07])\n",
    "# weights=[p1,  n2,  mx,  p2,  p3,  n3, n4,  n5,  p7,  n6]\n",
    "    \n",
    "model_production = VotingRegressor([\n",
    "        ('lgb_10', lgb.LGBMRegressor(**p1, random_state=42)),\n",
    "        ('lgb_11', lgb.LGBMRegressor(**n2, random_state=42)),\n",
    "        ('lgb_12', lgb.LGBMRegressor(**mx, random_state=42)), \n",
    "        ('lgb_13', lgb.LGBMRegressor(**p2, random_state=42)), \n",
    "        ('lgb_14', lgb.LGBMRegressor(**p3, random_state=42)), \n",
    "        ('lgb_15', lgb.LGBMRegressor(**n3, random_state=42)), \n",
    "        ('lgb_16', lgb.LGBMRegressor(**n4, random_state=42)), \n",
    "        ('lgb_17', lgb.LGBMRegressor(**n5, random_state=42)),\n",
    "        ('lgb_18', lgb.LGBMRegressor(**p7, random_state=42)),\n",
    "        ('lgb_19', lgb.LGBMRegressor(**n6, random_state=42)),\n",
    "],weights=[0.14,0.13,0.08,0.11,0.09,0.1,0.09,0.07,0.12,0.07])\n",
    "\n",
    "\n",
    "        \n",
    "mask = df_train_features['is_consumption'] == 1\n",
    "model_consumption.fit(\n",
    "    X=df_train_features[mask].drop(columns=[\"target\"]),\n",
    "    y=df_train_features[mask][\"target\"]\n",
    ")\n",
    "\n",
    "mask = df_train_features['is_consumption'] == 0\n",
    "model_production.fit(\n",
    "    X=df_train_features[mask].drop(columns=[\"target\"]),\n",
    "    y=df_train_features[mask][\"target\"]\n",
    ")"
   ]
  },
  {
   "cell_type": "markdown",
   "id": "1ae5efa7",
   "metadata": {
    "papermill": {
     "duration": 0.00889,
     "end_time": "2023-12-19T15:32:01.752752",
     "exception": false,
     "start_time": "2023-12-19T15:32:01.743862",
     "status": "completed"
    },
    "tags": []
   },
   "source": [
    "# Submit API"
   ]
  },
  {
   "cell_type": "code",
   "execution_count": null,
   "id": "f20f5d84",
   "metadata": {
    "execution": {
     "iopub.execute_input": "2023-12-19T15:32:01.773990Z",
     "iopub.status.busy": "2023-12-19T15:32:01.773145Z",
     "iopub.status.idle": "2023-12-19T15:32:01.828260Z",
     "shell.execute_reply": "2023-12-19T15:32:01.827035Z"
    },
    "papermill": {
     "duration": 0.069374,
     "end_time": "2023-12-19T15:32:01.831317",
     "exception": false,
     "start_time": "2023-12-19T15:32:01.761943",
     "status": "completed"
    },
    "tags": []
   },
   "outputs": [],
   "source": [
    "import enefit\n",
    "\n",
    "env = enefit.make_env()\n",
    "iter_test = env.iter_test()"
   ]
  },
  {
   "cell_type": "code",
   "execution_count": null,
   "id": "01dd6528",
   "metadata": {
    "execution": {
     "iopub.execute_input": "2023-12-19T15:32:01.852598Z",
     "iopub.status.busy": "2023-12-19T15:32:01.852117Z",
     "iopub.status.idle": "2023-12-19T15:32:42.375011Z",
     "shell.execute_reply": "2023-12-19T15:32:42.373718Z"
    },
    "papermill": {
     "duration": 40.537324,
     "end_time": "2023-12-19T15:32:42.378270",
     "exception": false,
     "start_time": "2023-12-19T15:32:01.840946",
     "status": "completed"
    },
    "tags": []
   },
   "outputs": [
    {
     "name": "stdout",
     "output_type": "stream",
     "text": [
      "This version of the API is not optimized and should not be used to estimate the runtime of your code on the hidden test set.\n"
     ]
    }
   ],
   "source": [
    "for (\n",
    "    test, \n",
    "    revealed_targets, \n",
    "    client, \n",
    "    historical_weather,\n",
    "    forecast_weather, \n",
    "    electricity_prices, \n",
    "    gas_prices, \n",
    "    sample_prediction\n",
    ") in iter_test:\n",
    "    \n",
    "    test = test.rename(columns={\"prediction_datetime\": \"datetime\"})\n",
    "    \n",
    "    df_test = pl.from_pandas(test[data_cols[1:]], schema_overrides=schema_data)\n",
    "    df_client = pl.from_pandas(client[client_cols], schema_overrides=schema_client)\n",
    "    df_gas_prices = pl.from_pandas(gas_prices[gas_prices_cols], schema_overrides=schema_gas)\n",
    "    df_electricity_prices = pl.from_pandas(electricity_prices[electricity_prices_cols], schema_overrides=schema_electricity)\n",
    "    df_new_forecast_weather = pl.from_pandas(forecast_weather[forecast_weather_cols], schema_overrides=schema_forecast)\n",
    "    df_new_historical_weather = pl.from_pandas(historical_weather[historical_weather_cols], schema_overrides=schema_historical)\n",
    "    df_new_target = pl.from_pandas(revealed_targets[target_cols], schema_overrides=schema_target)\n",
    "    \n",
    "    df_forecast_weather = pl.concat([df_forecast_weather, df_new_forecast_weather]).unique(['forecast_datetime', 'latitude', 'longitude', 'hours_ahead'])\n",
    "    df_historical_weather = pl.concat([df_historical_weather, df_new_historical_weather]).unique(['datetime', 'latitude', 'longitude'])\n",
    "    df_target = pl.concat([df_target, df_new_target]).unique(['datetime', 'county', 'is_business', 'product_type', 'is_consumption'])\n",
    "    \n",
    "    df_test_features = generate_features(\n",
    "        df_test, \n",
    "        df_client, \n",
    "        df_gas_prices, \n",
    "        df_electricity_prices, \n",
    "        df_forecast_weather, \n",
    "        df_historical_weather, \n",
    "        df_weather_station_to_county_mapping, \n",
    "        df_target\n",
    "    )\n",
    "    df_test_features = to_pandas(df_test_features)\n",
    "    \n",
    "    mask = df_test_features['is_consumption'] == 1\n",
    "    # clip method makes values < 0 equal 0 because our target is nonnegative and models can produce negative values\n",
    "    sample_prediction.loc[mask.values, \"target\"] = model_consumption.predict(df_test_features[mask]).clip(0)\n",
    "    \n",
    "    mask = df_test_features['is_consumption'] == 0\n",
    "    sample_prediction.loc[mask.values, \"target\"] = model_production.predict(df_test_features[mask]).clip(0)\n",
    "    \n",
    "    # send predictions\n",
    "    env.predict(sample_prediction)"
   ]
  }
 ],
 "metadata": {
  "kaggle": {
   "accelerator": "none",
   "dataSources": [
    {
     "databundleVersionId": 7292407,
     "sourceId": 57236,
     "sourceType": "competition"
    }
   ],
   "dockerImageVersionId": 30615,
   "isGpuEnabled": false,
   "isInternetEnabled": false,
   "language": "python",
   "sourceType": "notebook"
  },
  "kernelspec": {
   "display_name": "Python 3",
   "language": "python",
   "name": "python3"
  },
  "language_info": {
   "codemirror_mode": {
    "name": "ipython",
    "version": 3
   },
   "file_extension": ".py",
   "mimetype": "text/x-python",
   "name": "python",
   "nbconvert_exporter": "python",
   "pygments_lexer": "ipython3",
   "version": "3.11.5"
  },
  "papermill": {
   "default_parameters": {},
   "duration": 7751.898258,
   "end_time": "2023-12-19T15:32:44.796988",
   "environment_variables": {},
   "exception": null,
   "input_path": "__notebook__.ipynb",
   "output_path": "__notebook__.ipynb",
   "parameters": {},
   "start_time": "2023-12-19T13:23:32.898730",
   "version": "2.4.0"
  }
 },
 "nbformat": 4,
 "nbformat_minor": 5
}
