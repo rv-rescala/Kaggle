{
 "cells": [
  {
   "cell_type": "markdown",
   "id": "2bafa706",
   "metadata": {
    "papermill": {
     "duration": 0.007712,
     "end_time": "2023-11-06T09:38:39.912614",
     "exception": false,
     "start_time": "2023-11-06T09:38:39.904902",
     "status": "completed"
    },
    "tags": []
   },
   "source": [
    "## Explained singel model⚡Optiver 🚀\n",
    "\n",
    "## Introduction 🌟\n",
    "Welcome to this Jupyter notebook developed for the Optiver - Trading at the Close This notebook is designed to assist you in the competition, Predict US stocks closing movements\n",
    "\n",
    "\n",
    "### Inspiration and Credits 🙌\n",
    "This notebook draws inspiration from the remarkable work of Angle, which can be found in [this Kaggle project](https://www.kaggle.com/code/lblhandsome/optiver-robust-best-single-model/notebook). Special thanks to Angle for sharing valuable insights and code.\n",
    "\n",
    "🌟 Dive into my profile and explore other public projects. Don't forget to share your feedback and experiences!\n",
    "👉 [Visit my Profile](https://www.kaggle.com/zulqarnainali) 👈\n",
    "\n",
    "🙏 Your time and consideration are greatly appreciated. If you find this notebook valuable, please give it a thumbs-up! 👍\n",
    "\n",
    "## Purpose 🎯\n",
    "This notebook serves several primary purposes:\n",
    "- Load and preprocess the competition data 📁\n",
    "- Engineer pertinent features for training predictive models 🏋️‍♂️\n",
    "- Train models to predict the target variable 🧠\n",
    "- Submit predictions to the competition environment 📤\n",
    "\n",
    "## Notebook Structure 📚\n",
    "This notebook follows a structured approach:\n",
    "1. **Data Preparation**: We load and preprocess the competition data in this section.\n",
    "2. **Feature Engineering**: The generation and selection of relevant features for model training are covered here.\n",
    "3. **Model Training**: Machine learning models are trained on the prepared data.\n",
    "4. **Prediction and Submission**: We make predictions on the test data and submit them for evaluation.\n",
    "\n",
    "## How to Use 🛠️\n",
    "To make the most of this notebook, please adhere to these steps:\n",
    "1. Ensure you have the competition data and environment ready.\n",
    "2. Execute the cells in order for data preparation, feature engineering, model training, and prediction submission.\n",
    "3. Customize and adjust the code as needed to enhance model performance or experiment with different approaches.\n",
    "\n",
    "**Note**: Be sure to replace any placeholder paths or configurations with your specific information.\n",
    "\n",
    "## Acknowledgments 🙏\n",
    "We extend our gratitude to the Optiver organizers for providing the dataset and hosting the competition.\n",
    "\n",
    "Let's embark on this journey! Don't hesitate to reach out if you have questions or require assistance along the way.\n",
    "👉 [Visit my Profile](https://www.kaggle.com/zulqarnainali) 👈"
   ]
  },
  {
   "cell_type": "markdown",
   "id": "4e103031",
   "metadata": {
    "papermill": {
     "duration": 0.006777,
     "end_time": "2023-11-06T09:38:39.926622",
     "exception": false,
     "start_time": "2023-11-06T09:38:39.919845",
     "status": "completed"
    },
    "tags": []
   },
   "source": [
    "## 🧹 Importing necessary libraries"
   ]
  },
  {
   "cell_type": "code",
   "execution_count": 10,
   "id": "221c8e8d",
   "metadata": {
    "_cell_guid": "b1076dfc-b9ad-4769-8c92-a6c4dae69d19",
    "_uuid": "8f2839f25d086af736a60e9eeb907d3b93b6e0e5",
    "execution": {
     "iopub.execute_input": "2023-11-06T09:38:39.942451Z",
     "iopub.status.busy": "2023-11-06T09:38:39.942080Z",
     "iopub.status.idle": "2023-11-06T09:38:44.919352Z",
     "shell.execute_reply": "2023-11-06T09:38:44.918527Z"
    },
    "papermill": {
     "duration": 4.988074,
     "end_time": "2023-11-06T09:38:44.921763",
     "exception": false,
     "start_time": "2023-11-06T09:38:39.933689",
     "status": "completed"
    },
    "tags": []
   },
   "outputs": [],
   "source": [
    "import gc  # Garbage collection for memory management\n",
    "import os  # Operating system-related functions\n",
    "import time  # Time-related functions\n",
    "import warnings  # Handling warnings\n",
    "from itertools import combinations  # For creating combinations of elements\n",
    "from warnings import simplefilter  # Simplifying warning handling\n",
    "\n",
    "# 📦 Importing machine learning libraries\n",
    "import joblib  # For saving and loading models\n",
    "import lightgbm as lgb  # LightGBM gradient boosting framework\n",
    "import numpy as np  # Numerical operations\n",
    "import pandas as pd  # Data manipulation and analysis\n",
    "from sklearn.metrics import mean_absolute_error  # Metric for evaluation\n",
    "from sklearn.model_selection import KFold, TimeSeriesSplit  # Cross-validation techniques\n",
    "\n",
    "# 🤐 Disable warnings to keep the code clean\n",
    "warnings.filterwarnings(\"ignore\")\n",
    "simplefilter(action=\"ignore\", category=pd.errors.PerformanceWarning)\n",
    "\n",
    "# 📊 Define flags and variables\n",
    "is_offline = True  # Flag for online/offline mode\n",
    "is_train = True  # Flag for training mode\n",
    "is_infer = True  # Flag for inference mode\n",
    "max_lookback = np.nan  # Maximum lookback (not specified)\n",
    "split_day = 435  # Split day for time series data\n"
   ]
  },
  {
   "cell_type": "code",
   "execution_count": 11,
   "id": "79d43184",
   "metadata": {},
   "outputs": [
    {
     "name": "stdout",
     "output_type": "stream",
     "text": [
      "BASE_OUTPUT_PATH: ../output\n",
      "BASE_INPUT_PATH: ../kaggle/input/optiver-trading-at-the-close\n",
      "TRAIN_FILE: ../kaggle/input/optiver-trading-at-the-close/train.csv\n"
     ]
    }
   ],
   "source": [
    "from pathlib import Path\n",
    "import os\n",
    "import warnings\n",
    "\n",
    "warnings.filterwarnings(\"ignore\")\n",
    "\n",
    "PREV_MAX = 80\n",
    "if os.environ.get(\"KAGGLE_DATA_PROXY_TOKEN\") != None:\n",
    "    BASE_OUTPUT_PATH = Path(f'/kaggle/working')\n",
    "    #!pip install talib_binary --no-index --find-links=file:///kaggle/input/ta-lib/\n",
    "    import subprocess\n",
    "    import sys\n",
    "    device = \"gpu\"\n",
    "\n",
    "    # subprocess.check_call([sys.executable, \"-m\", \"pip\", \"install\", \"talib_binary\", \"--no-index\", \"--find-links\", \"file:///kaggle/input/ta-lib/\"])\n",
    "else:\n",
    "    BASE_OUTPUT_PATH = Path(f'../output')\n",
    "    BASE_INPUT_PATH = Path(f'../kaggle/input/optiver-trading-at-the-close')\n",
    "    TRAIN_FILE = Path(f'{BASE_INPUT_PATH}/train.csv')\n",
    "    device = \"cpu\" # or \"gpu\"\n",
    "\n",
    "\n",
    "print(f\"BASE_OUTPUT_PATH: {BASE_OUTPUT_PATH}\")\n",
    "print(f\"BASE_INPUT_PATH: {BASE_INPUT_PATH}\")\n",
    "print(f\"TRAIN_FILE: {TRAIN_FILE}\")"
   ]
  },
  {
   "cell_type": "markdown",
   "id": "64c34800",
   "metadata": {
    "papermill": {
     "duration": 0.007216,
     "end_time": "2023-11-06T09:38:44.936688",
     "exception": false,
     "start_time": "2023-11-06T09:38:44.929472",
     "status": "completed"
    },
    "tags": []
   },
   "source": [
    "## 📊 Data Loading and Preprocessing 📊\n",
    "\n",
    "\n",
    "\n",
    "\n"
   ]
  },
  {
   "cell_type": "markdown",
   "id": "c2770427",
   "metadata": {
    "papermill": {
     "duration": 0.006935,
     "end_time": "2023-11-06T09:38:44.950640",
     "exception": false,
     "start_time": "2023-11-06T09:38:44.943705",
     "status": "completed"
    },
    "tags": []
   },
   "source": [
    "**Explaination**\n",
    "\n",
    "1. `df = pd.read_csv(\"/kaggle/input/optiver-trading-at-the-close/train.csv\")`\n",
    "   - This line reads a CSV (Comma-Separated Values) file named \"train.csv\" using the Pandas library and assigns the resulting DataFrame to the variable `df`. The CSV file is expected to be located at the specified file path, \"/kaggle/input/optiver-trading-at-the-close/train.csv\". This line is loading a dataset from a file.\n",
    "\n",
    "2. `df = df.dropna(subset=[\"target\"])`\n",
    "   - This line drops (removes) rows from the DataFrame `df` where there are missing values (NaN) in the \"target\" column. It uses the `dropna` method with the `subset` parameter set to \"target\" to specify that it should check for missing values in the \"target\" column and remove rows that have missing values. The updated DataFrame is assigned back to the variable `df`.\n",
    "\n",
    "3. `df.reset_index(drop=True, inplace=True)`\n",
    "   - This line resets the index of the DataFrame `df`. When data is removed from a DataFrame, the index labels may have gaps or may not be sequential. This line resets the index to be sequential, starting from 0, and the old index is dropped. The `drop=True` parameter indicates that the old index should be dropped, and `inplace=True` means that this operation modifies the DataFrame in place.\n",
    "\n",
    "4. `df_shape = df.shape`\n",
    "   - This line calculates the shape of the DataFrame `df`, which means it returns a tuple containing the number of rows and columns in the DataFrame. The result is assigned to the variable `df_shape`.\n",
    "\n",
    "To summarize, the code reads a dataset from a CSV file, removes rows with missing values in a specific column (\"target\"), resets the index of the DataFrame to make it sequential, and finally, it calculates and stores the shape of the resulting DataFrame in the `df_shape` variable. "
   ]
  },
  {
   "cell_type": "code",
   "execution_count": 12,
   "id": "7bae53f2",
   "metadata": {
    "execution": {
     "iopub.execute_input": "2023-11-06T09:38:44.966017Z",
     "iopub.status.busy": "2023-11-06T09:38:44.965723Z",
     "iopub.status.idle": "2023-11-06T09:39:03.239448Z",
     "shell.execute_reply": "2023-11-06T09:39:03.238661Z"
    },
    "papermill": {
     "duration": 18.284288,
     "end_time": "2023-11-06T09:39:03.241930",
     "exception": false,
     "start_time": "2023-11-06T09:38:44.957642",
     "status": "completed"
    },
    "tags": []
   },
   "outputs": [],
   "source": [
    "# 📂 Read the dataset from a CSV file using Pandas\n",
    "df = pd.read_csv(TRAIN_FILE)\n",
    "\n",
    "# 🧹 Remove rows with missing values in the \"target\" column\n",
    "df = df.dropna(subset=[\"target\"])\n",
    "\n",
    "# 🔁 Reset the index of the DataFrame and apply the changes in place\n",
    "df.reset_index(drop=True, inplace=True)\n",
    "\n",
    "# 📏 Get the shape of the DataFrame (number of rows and columns)\n",
    "df_shape = df.shape\n"
   ]
  },
  {
   "cell_type": "markdown",
   "id": "c83a6647",
   "metadata": {
    "papermill": {
     "duration": 0.00693,
     "end_time": "2023-11-06T09:39:03.256402",
     "exception": false,
     "start_time": "2023-11-06T09:39:03.249472",
     "status": "completed"
    },
    "tags": []
   },
   "source": [
    "## 🚀 Memory Optimization Function with Data Type Conversion 🧹"
   ]
  },
  {
   "cell_type": "markdown",
   "id": "035d724a",
   "metadata": {
    "papermill": {
     "duration": 0.006912,
     "end_time": "2023-11-06T09:39:03.270336",
     "exception": false,
     "start_time": "2023-11-06T09:39:03.263424",
     "status": "completed"
    },
    "tags": []
   },
   "source": [
    "**Explaination**\n",
    "\n",
    "This code defines a function `reduce_mem_usage` that is used to reduce the memory usage of a Pandas DataFrame by optimizing the data types of its columns. \n",
    "\n",
    "1. `def reduce_mem_usage(df, verbose=0):`\n",
    "   - This line defines a function called `reduce_mem_usage` that takes two parameters: `df`, which is the input Pandas DataFrame that needs memory optimization, and `verbose` (defaulting to 0), which is a flag to control whether or not to provide memory optimization information.\n",
    "\n",
    "2. `start_mem = df.memory_usage().sum() / 1024**2`\n",
    "   - This line calculates the initial memory usage of the input DataFrame `df` and stores it in the `start_mem` variable. It does this by using the `memory_usage()` method, which returns the memory usage of each column, and then sums these values. The result is divided by 1024^2 to convert it to megabytes.\n",
    "\n",
    "3. The code then enters a loop that iterates through each column of the DataFrame using the `for col in df.columns:` loop.\n",
    "\n",
    "4. Inside the loop, it checks the data type of the column using `col_type = df[col].dtype`.\n",
    "\n",
    "5. If the column's data type is not 'object' (i.e., it's numeric), it proceeds with the optimization.\n",
    "\n",
    "6. For integer columns:\n",
    "   - It checks the minimum and maximum values in the column (c_min and c_max).\n",
    "   - Depending on the range of values, it converts the column to the smallest integer data type that can accommodate the data while reducing memory usage. It checks for `int8`, `int16`, `int32`, and `int64` data types based on the data range.\n",
    "\n",
    "7. For float columns:\n",
    "   - Similar to integer columns, it checks the minimum and maximum values.\n",
    "   - It converts the column to a `float32` data type if the range is within the limits of `np.finfo(np.float32)`. The `np.finfo()` function is used to get the floating-point type's limits.\n",
    "\n",
    "8. If the column's data type is neither integer nor float and falls outside the specified ranges, it defaults to `float32`.\n",
    "\n",
    "9. If `verbose` is set to a truthy value (e.g., 1), it provides information about memory optimization, including the initial and final memory usage, and the percentage reduction in memory usage.\n",
    "\n",
    "10. Finally, the function returns the DataFrame with optimized memory usage.\n",
    "\n",
    "This function is useful for reducing the memory footprint of a DataFrame, especially when working with large datasets, by converting columns to the most memory-efficient data types based on the data they contain. It can help improve performance and reduce memory-related issues."
   ]
  },
  {
   "cell_type": "code",
   "execution_count": 13,
   "id": "4af5ab05",
   "metadata": {
    "execution": {
     "iopub.execute_input": "2023-11-06T09:39:03.286240Z",
     "iopub.status.busy": "2023-11-06T09:39:03.285453Z",
     "iopub.status.idle": "2023-11-06T09:39:03.399864Z",
     "shell.execute_reply": "2023-11-06T09:39:03.398925Z"
    },
    "papermill": {
     "duration": 0.124627,
     "end_time": "2023-11-06T09:39:03.402031",
     "exception": false,
     "start_time": "2023-11-06T09:39:03.277404",
     "status": "completed"
    },
    "tags": []
   },
   "outputs": [],
   "source": [
    "# 🧹 Function to reduce memory usage of a Pandas DataFrame\n",
    "def reduce_mem_usage(df, verbose=0):\n",
    "    \"\"\"\n",
    "    Iterate through all numeric columns of a dataframe and modify the data type\n",
    "    to reduce memory usage.\n",
    "    \"\"\"\n",
    "    \n",
    "    # 📏 Calculate the initial memory usage of the DataFrame\n",
    "    start_mem = df.memory_usage().sum() / 1024**2\n",
    "\n",
    "    # 🔄 Iterate through each column in the DataFrame\n",
    "    for col in df.columns:\n",
    "        col_type = df[col].dtype\n",
    "\n",
    "        # Check if the column's data type is not 'object' (i.e., numeric)\n",
    "        if col_type != object:\n",
    "            c_min = df[col].min()\n",
    "            c_max = df[col].max()\n",
    "            \n",
    "            # Check if the column's data type is an integer\n",
    "            if str(col_type)[:3] == \"int\":\n",
    "                if c_min > np.iinfo(np.int8).min and c_max < np.iinfo(np.int8).max:\n",
    "                    df[col] = df[col].astype(np.int8)\n",
    "                elif c_min > np.iinfo(np.int16).min and c_max < np.iinfo(np.int16).max:\n",
    "                    df[col] = df[col].astype(np.int16)\n",
    "                elif c_min > np.iinfo(np.int32).min and c_max < np.iinfo(np.int32).max:\n",
    "                    df[col] = df[col].astype(np.int32)\n",
    "                elif c_min > np.iinfo(np.int64).min and c_max < np.iinfo(np.int64).max:\n",
    "                    df[col] = df[col].astype(np.int64)\n",
    "            else:\n",
    "                # Check if the column's data type is a float\n",
    "                if c_min > np.finfo(np.float16).min and c_max < np.finfo(np.float16).max:\n",
    "                    df[col] = df[col].astype(np.float32)\n",
    "                elif c_min > np.finfo(np.float32).min and c_max < np.finfo(np.float32).max:\n",
    "                    df[col] = df[col].astype(np.float32)\n",
    "                else:\n",
    "                    df[col] = df[col].astype(np.float32)\n",
    "\n",
    "    # ℹ️ Provide memory optimization information if 'verbose' is True\n",
    "    if verbose:\n",
    "        logger.info(f\"Memory usage of dataframe is {start_mem:.2f} MB\")\n",
    "        end_mem = df.memory_usage().sum() / 1024**2\n",
    "        logger.info(f\"Memory usage after optimization is: {end_mem:.2f} MB\")\n",
    "        decrease = 100 * (start_mem - end_mem) / start_mem\n",
    "        logger.info(f\"Decreased by {decrease:.2f}%\")\n",
    "\n",
    "    # 🔄 Return the DataFrame with optimized memory usage\n",
    "    return df\n"
   ]
  },
  {
   "cell_type": "markdown",
   "id": "4c76f6fa",
   "metadata": {
    "papermill": {
     "duration": 0.007007,
     "end_time": "2023-11-06T09:39:03.416678",
     "exception": false,
     "start_time": "2023-11-06T09:39:03.409671",
     "status": "completed"
    },
    "tags": []
   },
   "source": [
    " ## 🏎️Parallel Triplet Imbalance Calculation with Numba"
   ]
  },
  {
   "cell_type": "markdown",
   "id": "b2e5b921",
   "metadata": {
    "papermill": {
     "duration": 0.006805,
     "end_time": "2023-11-06T09:39:03.430511",
     "exception": false,
     "start_time": "2023-11-06T09:39:03.423706",
     "status": "completed"
    },
    "tags": []
   },
   "source": [
    "**Explaination**\n",
    "\n",
    "\n",
    "This code includes functions for calculating triplet imbalance in a parallel and optimized manner using the Numba library. Let's break down each part of the code:\n",
    "\n",
    "1. `from numba import njit, prange`\n",
    "   - This line imports two important features from the Numba library: `njit` for Just-In-Time (JIT) compilation and `prange` for parallel processing. JIT compilation can significantly speed up the execution of code, and parallel processing allows for concurrent execution of code in a loop.\n",
    "\n",
    "2. `@njit(parallel=True)`\n",
    "   - This is a decorator applied to the `compute_triplet_imbalance` function, indicating that Numba should compile this function for speed optimization and parallel execution. This decorator makes use of Numba's features to enhance the performance of the code.\n",
    "\n",
    "3. `def compute_triplet_imbalance(df_values, comb_indices):`\n",
    "   - This function is designed to calculate triplet imbalance in a parallelized manner using Numba. It takes two parameters:\n",
    "     - `df_values`: A NumPy array containing the values of the DataFrame. It represents the price data.\n",
    "     - `comb_indices`: A list of combinations of three price indices (a, b, c) for which triplet imbalance needs to be computed.\n",
    "\n",
    "4. `num_rows = df_values.shape[0]`\n",
    "   - This line calculates the number of rows in the `df_values` array, which represents the number of rows in the DataFrame.\n",
    "\n",
    "5. `imbalance_features = np.empty((num_rows, num_combinations))`\n",
    "   - This line initializes an empty NumPy array `imbalance_features` with dimensions (number of rows, number of combinations). This array will store the computed triplet imbalance values.\n",
    "\n",
    "6. The code then enters a loop that iterates through all combinations of triplets specified by `comb_indices`.\n",
    "\n",
    "7. `for i in prange(num_combinations):`\n",
    "   - This loop is parallelized using `prange`, which allows for multiple combinations to be processed concurrently.\n",
    "\n",
    "8. Inside the loop, it extracts the indices (a, b, c) for the current combination.\n",
    "\n",
    "9. Another loop iterates through the rows of the DataFrame (`for j in range(num_rows)`) and calculates the triplet imbalance for each row.\n",
    "\n",
    "10. `max_val`, `min_val`, and `mid_val` are computed for each row.\n",
    "\n",
    "11. `if mid_val == min_val:` checks if division by zero would occur and sets the corresponding entry in `imbalance_features` to `np.nan` to prevent errors in such cases.\n",
    "\n",
    "12. The final imbalance value is calculated using the formula `(max_val - mid_val) / (mid_val - min_val)` and stored in the `imbalance_features` array.\n",
    "\n",
    "13. The function returns the `imbalance_features` array, which contains the computed triplet imbalance values for all combinations and rows.\n",
    "\n",
    "14. `calculate_triplet_imbalance_numba` is another function that takes a price column name and a DataFrame as input. It prepares the data and calculates triplet imbalance using the `compute_triplet_imbalance` function. It returns the result as a DataFrame with appropriately labeled columns.\n"
   ]
  },
  {
   "cell_type": "code",
   "execution_count": 14,
   "id": "5d30a8d3",
   "metadata": {
    "execution": {
     "iopub.execute_input": "2023-11-06T09:39:03.446364Z",
     "iopub.status.busy": "2023-11-06T09:39:03.445655Z",
     "iopub.status.idle": "2023-11-06T09:39:04.089811Z",
     "shell.execute_reply": "2023-11-06T09:39:04.088830Z"
    },
    "papermill": {
     "duration": 0.654617,
     "end_time": "2023-11-06T09:39:04.092211",
     "exception": false,
     "start_time": "2023-11-06T09:39:03.437594",
     "status": "completed"
    },
    "tags": []
   },
   "outputs": [],
   "source": [
    "# 🏎️ Import Numba for just-in-time (JIT) compilation and parallel processing\n",
    "from numba import njit, prange\n",
    "\n",
    "# 📊 Function to compute triplet imbalance in parallel using Numba\n",
    "@njit(parallel=True)\n",
    "def compute_triplet_imbalance(df_values, comb_indices):\n",
    "    num_rows = df_values.shape[0]\n",
    "    num_combinations = len(comb_indices)\n",
    "    imbalance_features = np.empty((num_rows, num_combinations))\n",
    "\n",
    "    # 🔁 Loop through all combinations of triplets\n",
    "    for i in prange(num_combinations):\n",
    "        a, b, c = comb_indices[i]\n",
    "        \n",
    "        # 🔁 Loop through rows of the DataFrame\n",
    "        for j in range(num_rows):\n",
    "            max_val = max(df_values[j, a], df_values[j, b], df_values[j, c])\n",
    "            min_val = min(df_values[j, a], df_values[j, b], df_values[j, c])\n",
    "            mid_val = df_values[j, a] + df_values[j, b] + df_values[j, c] - min_val - max_val\n",
    "            \n",
    "            # 🚫 Prevent division by zero\n",
    "            if mid_val == min_val:\n",
    "                imbalance_features[j, i] = np.nan\n",
    "            else:\n",
    "                imbalance_features[j, i] = (max_val - mid_val) / (mid_val - min_val)\n",
    "\n",
    "    return imbalance_features\n",
    "\n",
    "# 📈 Function to calculate triplet imbalance for given price data and a DataFrame\n",
    "def calculate_triplet_imbalance_numba(price, df):\n",
    "    # Convert DataFrame to numpy array for Numba compatibility\n",
    "    df_values = df[price].values\n",
    "    comb_indices = [(price.index(a), price.index(b), price.index(c)) for a, b, c in combinations(price, 3)]\n",
    "\n",
    "    # Calculate the triplet imbalance using the Numba-optimized function\n",
    "    features_array = compute_triplet_imbalance(df_values, comb_indices)\n",
    "\n",
    "    # Create a DataFrame from the results\n",
    "    columns = [f\"{a}_{b}_{c}_imb2\" for a, b, c in combinations(price, 3)]\n",
    "    features = pd.DataFrame(features_array, columns=columns)\n",
    "\n",
    "    return features"
   ]
  },
  {
   "cell_type": "markdown",
   "id": "9a32cf2c",
   "metadata": {
    "papermill": {
     "duration": 0.007012,
     "end_time": "2023-11-06T09:39:04.106541",
     "exception": false,
     "start_time": "2023-11-06T09:39:04.099529",
     "status": "completed"
    },
    "tags": []
   },
   "source": [
    "## 📊 Feature Generation Functions 📊\n",
    "\n",
    "\n",
    "\n",
    "\n"
   ]
  },
  {
   "cell_type": "markdown",
   "id": "8f31b107",
   "metadata": {
    "papermill": {
     "duration": 0.006799,
     "end_time": "2023-11-06T09:39:04.120627",
     "exception": false,
     "start_time": "2023-11-06T09:39:04.113828",
     "status": "completed"
    },
    "tags": []
   },
   "source": [
    "**Explaination**\n",
    "\n",
    "\n",
    "\n",
    "1. `imbalance_features(df)`:\n",
    "   - This function takes a DataFrame `df` as input.\n",
    "   - It calculates various features related to price and size data using Pandas' `eval` function, creating new columns in the DataFrame for each feature.\n",
    "   - It then creates pairwise price imbalance features for combinations of price columns.\n",
    "   - Next, it calculates triplet imbalance features using the Numba-optimized function `calculate_triplet_imbalance_numba`.\n",
    "   - Finally, it calculates additional features, including momentum, spread, intensity, pressure, market urgency, and depth pressure.\n",
    "   - It also calculates statistical aggregation features (mean, standard deviation, skewness, kurtosis) for both price and size columns.\n",
    "   - Shifted, return, and diff features are generated for specific columns.\n",
    "   - Infinite values in the DataFrame are replaced with 0.\n",
    "\n",
    "2. `other_features(df)`:\n",
    "   - This function adds time-related and stock-related features to the DataFrame.\n",
    "   - It calculates the day of the week, seconds, and minutes from the \"date_id\" and \"seconds_in_bucket\" columns.\n",
    "   - It maps global features from a predefined dictionary to the DataFrame based on the \"stock_id.\"\n",
    "\n",
    "3. `generate_all_features(df)`:\n",
    "   - This function combines the features generated by the `imbalance_features` and `other_features` functions.\n",
    "   - It selects the relevant columns for feature generation, applies the `imbalance_features` function, adds time and stock-related features using the `other_features` function, and then performs garbage collection to free up memory.\n",
    "   - The function returns a DataFrame containing the generated features, excluding certain columns like \"row_id,\" \"target,\" \"time_id,\" and \"date_id.\"\n"
   ]
  },
  {
   "cell_type": "code",
   "execution_count": 15,
   "id": "cf32689f",
   "metadata": {
    "execution": {
     "iopub.execute_input": "2023-11-06T09:39:04.136209Z",
     "iopub.status.busy": "2023-11-06T09:39:04.135868Z",
     "iopub.status.idle": "2023-11-06T09:39:04.154715Z",
     "shell.execute_reply": "2023-11-06T09:39:04.153828Z"
    },
    "papermill": {
     "duration": 0.028844,
     "end_time": "2023-11-06T09:39:04.156570",
     "exception": false,
     "start_time": "2023-11-06T09:39:04.127726",
     "status": "completed"
    },
    "tags": []
   },
   "outputs": [],
   "source": [
    "# 📊 Function to generate imbalance features\n",
    "def imbalance_features(df):\n",
    "    # Define lists of price and size-related column names\n",
    "    prices = [\"reference_price\", \"far_price\", \"near_price\", \"ask_price\", \"bid_price\", \"wap\"]\n",
    "    sizes = [\"matched_size\", \"bid_size\", \"ask_size\", \"imbalance_size\"]\n",
    "\n",
    "    # V1 features\n",
    "    # Calculate various features using Pandas eval function\n",
    "    df[\"volume\"] = df.eval(\"ask_size + bid_size\")\n",
    "    df[\"mid_price\"] = df.eval(\"(ask_price + bid_price) / 2\")\n",
    "    df[\"liquidity_imbalance\"] = df.eval(\"(bid_size-ask_size)/(bid_size+ask_size)\")\n",
    "    df[\"matched_imbalance\"] = df.eval(\"(imbalance_size-matched_size)/(matched_size+imbalance_size)\")\n",
    "    df[\"size_imbalance\"] = df.eval(\"bid_size / ask_size\")\n",
    "    \n",
    "    # Create features for pairwise price imbalances\n",
    "    for c in combinations(prices, 2):\n",
    "        df[f\"{c[0]}_{c[1]}_imb\"] = df.eval(f\"({c[0]} - {c[1]})/({c[0]} + {c[1]})\")\n",
    "\n",
    "    # Calculate triplet imbalance features using the Numba-optimized function\n",
    "    for c in [['ask_price', 'bid_price', 'wap', 'reference_price'], sizes]:\n",
    "        triplet_feature = calculate_triplet_imbalance_numba(c, df)\n",
    "        df[triplet_feature.columns] = triplet_feature.values\n",
    "        \n",
    "    # V2 features\n",
    "    # Calculate additional features\n",
    "    df[\"imbalance_momentum\"] = df.groupby(['stock_id'])['imbalance_size'].diff(periods=1) / df['matched_size']\n",
    "    df[\"price_spread\"] = df[\"ask_price\"] - df[\"bid_price\"]\n",
    "    df[\"spread_intensity\"] = df.groupby(['stock_id'])['price_spread'].diff()\n",
    "    df['price_pressure'] = df['imbalance_size'] * (df['ask_price'] - df['bid_price'])\n",
    "    df['market_urgency'] = df['price_spread'] * df['liquidity_imbalance']\n",
    "    df['depth_pressure'] = (df['ask_size'] - df['bid_size']) * (df['far_price'] - df['near_price'])\n",
    "    \n",
    "    # Calculate various statistical aggregation features\n",
    "    for func in [\"mean\", \"std\", \"skew\", \"kurt\"]:\n",
    "        df[f\"all_prices_{func}\"] = df[prices].agg(func, axis=1)\n",
    "        df[f\"all_sizes_{func}\"] = df[sizes].agg(func, axis=1)\n",
    "        \n",
    "    # V3 features\n",
    "    # Calculate shifted and return features for specific columns\n",
    "    for col in ['matched_size', 'imbalance_size', 'reference_price', 'imbalance_buy_sell_flag']:\n",
    "        for window in [1, 2, 3, 10]:\n",
    "            df[f\"{col}_shift_{window}\"] = df.groupby('stock_id')[col].shift(window)\n",
    "            df[f\"{col}_ret_{window}\"] = df.groupby('stock_id')[col].pct_change(window)\n",
    "    \n",
    "    # Calculate diff features for specific columns\n",
    "    for col in ['ask_price', 'bid_price', 'ask_size', 'bid_size']:\n",
    "        for window in [1, 2, 3, 10]:\n",
    "            df[f\"{col}_diff_{window}\"] = df.groupby(\"stock_id\")[col].diff(window)\n",
    "\n",
    "    # Replace infinite values with 0\n",
    "    return df.replace([np.inf, -np.inf], 0)\n",
    "\n",
    "# 📅 Function to generate time and stock-related features\n",
    "def other_features(df):\n",
    "    df[\"dow\"] = df[\"date_id\"] % 5  # Day of the week\n",
    "    df[\"seconds\"] = df[\"seconds_in_bucket\"] % 60  # Seconds\n",
    "    df[\"minute\"] = df[\"seconds_in_bucket\"] // 60  # Minutes\n",
    "\n",
    "    # Map global features to the DataFrame\n",
    "    for key, value in global_stock_id_feats.items():\n",
    "        df[f\"global_{key}\"] = df[\"stock_id\"].map(value.to_dict())\n",
    "\n",
    "    return df\n",
    "\n",
    "# 🚀 Function to generate all features by combining imbalance and other features\n",
    "def generate_all_features(df):\n",
    "    # Select relevant columns for feature generation\n",
    "    cols = [c for c in df.columns if c not in [\"row_id\", \"time_id\", \"target\"]]\n",
    "    df = df[cols]\n",
    "    \n",
    "    # Generate imbalance features\n",
    "    df = imbalance_features(df)\n",
    "    \n",
    "    # Generate time and stock-related features\n",
    "    df = other_features(df)\n",
    "    gc.collect()  # Perform garbage collection to free up memory\n",
    "    \n",
    "    # Select and return the generated features\n",
    "    feature_name = [i for i in df.columns if i not in [\"row_id\", \"target\", \"time_id\", \"date_id\"]]\n",
    "    \n",
    "    return df[feature_name]"
   ]
  },
  {
   "cell_type": "markdown",
   "id": "b76afad4",
   "metadata": {
    "papermill": {
     "duration": 0.006802,
     "end_time": "2023-11-06T09:39:04.199187",
     "exception": false,
     "start_time": "2023-11-06T09:39:04.192385",
     "status": "completed"
    },
    "tags": []
   },
   "source": [
    "## Data Splitting"
   ]
  },
  {
   "cell_type": "markdown",
   "id": "249f2052",
   "metadata": {
    "papermill": {
     "duration": 0.006875,
     "end_time": "2023-11-06T09:39:04.213143",
     "exception": false,
     "start_time": "2023-11-06T09:39:04.206268",
     "status": "completed"
    },
    "tags": []
   },
   "source": [
    "**Explaination**\n",
    "\n",
    "Checks whether it is running in offline or online mode and takes different actions accordingly. Here's what each part of the code does:\n",
    "\n",
    "1. `if is_offline:`:\n",
    "   - This condition checks if the variable `is_offline` is `True`. If it is `True`, it means the code is running in offline mode. \n",
    "\n",
    "2. In the offline mode block:\n",
    "   - The code splits the dataset into two parts: `df_train` and `df_valid` based on the value of the `split_day`. Data with \"date_id\" less than or equal to the `split_day` is assigned to `df_train`, while data with \"date_id\" greater than the `split_day` is assigned to `df_valid`.\n",
    "   - It then displays a message indicating that the code is running in offline mode and provides the shapes (number of rows and columns) of the training and validation sets using the `print` statements.\n",
    "\n",
    "3. In the online mode block:\n",
    "   - If the code is not running in offline mode (i.e., `is_offline` is `False`), it means it's running in online mode.\n",
    "   - In online mode, the entire dataset is used for training, and the entire dataset is assigned to `df_train`.\n",
    "   - It displays a message indicating that the code is running in online mode using the `print` statement.\n",
    "\n",
    "The purpose of distinguishing between offline and online modes is often related to the context in which the code is used. In offline mode, you typically have historical data and can perform tasks like data splitting for training and validation, while in online mode, you might be working with real-time data and use the entire dataset for training. The choice of mode can impact the preprocessing and analysis steps that follow in the code."
   ]
  },
  {
   "cell_type": "code",
   "execution_count": 16,
   "id": "e998d83c",
   "metadata": {
    "execution": {
     "iopub.execute_input": "2023-11-06T09:39:04.229114Z",
     "iopub.status.busy": "2023-11-06T09:39:04.228404Z",
     "iopub.status.idle": "2023-11-06T09:39:04.234232Z",
     "shell.execute_reply": "2023-11-06T09:39:04.233319Z"
    },
    "papermill": {
     "duration": 0.015735,
     "end_time": "2023-11-06T09:39:04.236155",
     "exception": false,
     "start_time": "2023-11-06T09:39:04.220420",
     "status": "completed"
    },
    "tags": []
   },
   "outputs": [
    {
     "name": "stdout",
     "output_type": "stream",
     "text": [
      "Offline mode\n",
      "train : (4742893, 17), valid : (494999, 17)\n"
     ]
    }
   ],
   "source": [
    "# Check if the code is running in offline or online mode\n",
    "if is_offline:\n",
    "    # In offline mode, split the data into training and validation sets based on the split_day\n",
    "    df_train = df[df[\"date_id\"] <= split_day]\n",
    "    df_valid = df[df[\"date_id\"] > split_day]\n",
    "    \n",
    "    # Display a message indicating offline mode and the shapes of the training and validation sets\n",
    "    print(\"Offline mode\")\n",
    "    print(f\"train : {df_train.shape}, valid : {df_valid.shape}\")\n",
    "else:\n",
    "    # In online mode, use the entire dataset for training\n",
    "    df_train = df\n",
    "    \n",
    "    # Display a message indicating online mode\n",
    "    print(\"Online mode\")"
   ]
  },
  {
   "cell_type": "markdown",
   "id": "5e0c3841",
   "metadata": {
    "papermill": {
     "duration": 0.006788,
     "end_time": "2023-11-06T09:39:04.250034",
     "exception": false,
     "start_time": "2023-11-06T09:39:04.243246",
     "status": "completed"
    },
    "tags": []
   },
   "source": [
    "**Explaination**\n",
    "\n",
    "\n",
    "\n",
    "1. `if is_train:`\n",
    "   - This condition checks if the variable `is_train` is `True`. If it is `True`, it means that the code is being executed in a training context.\n",
    "\n",
    "2. Inside the `if is_train:` block:\n",
    "   - A dictionary named `global_stock_id_feats` is created. This dictionary contains various statistical summary features calculated for each stock_id. These features include the median, standard deviation, and range of bid sizes and ask sizes, as well as bid prices and ask prices. These statistics are computed based on the training data (`df_train`) using Pandas' `groupby` and aggregation functions.\n",
    "\n",
    "3. The code checks if the execution mode is offline (`is_offline`) by further nested conditions.\n",
    "   - If it is offline (`is_offline` is `True`):\n",
    "     - It generates features for the training set (`df_train`) using the `generate_all_features` function.\n",
    "     - It prints a message indicating that the process of building the training features is finished.\n",
    "     - It generates features for the validation set (`df_valid`) using the `generate_all_features` function.\n",
    "     - It prints a message indicating that the process of building the validation features is finished.\n",
    "     - It reduces memory usage of the validation features using the `reduce_mem_usage` function.\n",
    "\n",
    "   - If it is not in offline mode (i.e., online mode):\n",
    "     - It generates features for the training set (`df_train`) using the `generate_all_features` function.\n",
    "     - It prints a message indicating that the process of building online training features is finished.\n",
    "\n",
    "4. After generating features, it reduces memory usage of the training features (`df_train_feats`) using the `reduce_mem_usage` function. This is done to optimize memory consumption and improve performance.\n",
    "\n",
    "The code's purpose is to prepare and optimize the feature set for training, considering whether it is in offline or online mode and whether it's part of the training process. The generated features and memory optimization are important steps in machine learning workflows, as they impact the training process and the model's efficiency."
   ]
  },
  {
   "cell_type": "code",
   "execution_count": 17,
   "id": "8e4505ca",
   "metadata": {
    "execution": {
     "iopub.execute_input": "2023-11-06T09:39:04.266086Z",
     "iopub.status.busy": "2023-11-06T09:39:04.265790Z",
     "iopub.status.idle": "2023-11-06T09:40:02.360222Z",
     "shell.execute_reply": "2023-11-06T09:40:02.359418Z"
    },
    "papermill": {
     "duration": 58.105235,
     "end_time": "2023-11-06T09:40:02.362540",
     "exception": false,
     "start_time": "2023-11-06T09:39:04.257305",
     "status": "completed"
    },
    "tags": []
   },
   "outputs": [],
   "source": [
    "if is_train:\n",
    "    global_stock_id_feats = {\n",
    "        \"median_size\": df_train.groupby(\"stock_id\")[\"bid_size\"].median() + df_train.groupby(\"stock_id\")[\"ask_size\"].median(),\n",
    "        \"std_size\": df_train.groupby(\"stock_id\")[\"bid_size\"].std() + df_train.groupby(\"stock_id\")[\"ask_size\"].std(),\n",
    "        \"ptp_size\": df_train.groupby(\"stock_id\")[\"bid_size\"].max() - df_train.groupby(\"stock_id\")[\"bid_size\"].min(),\n",
    "        \"median_price\": df_train.groupby(\"stock_id\")[\"bid_price\"].median() + df_train.groupby(\"stock_id\")[\"ask_price\"].median(),\n",
    "        \"std_price\": df_train.groupby(\"stock_id\")[\"bid_price\"].std() + df_train.groupby(\"stock_id\")[\"ask_price\"].std(),\n",
    "        \"ptp_price\": df_train.groupby(\"stock_id\")[\"bid_price\"].max() - df_train.groupby(\"stock_id\")[\"ask_price\"].min(),\n",
    "    }\n",
    "    if is_offline:\n",
    "        df_train_feats = generate_all_features(df_train)\n",
    "        print(\"Build Train Feats Finished.\")\n",
    "        df_valid_feats = generate_all_features(df_valid)\n",
    "        print(\"Build Valid Feats Finished.\")\n",
    "        df_valid_feats = reduce_mem_usage(df_valid_feats)\n",
    "    else:\n",
    "        df_train_feats = generate_all_features(df_train)\n",
    "        print(\"Build Online Train Feats Finished.\")\n",
    "\n",
    "    df_train_feats = reduce_mem_usage(df_train_feats)"
   ]
  },
  {
   "cell_type": "markdown",
   "id": "50e934c8",
   "metadata": {
    "papermill": {
     "duration": 0.007392,
     "end_time": "2023-11-06T09:40:02.377619",
     "exception": false,
     "start_time": "2023-11-06T09:40:02.370227",
     "status": "completed"
    },
    "tags": []
   },
   "source": [
    "## Model prepration\n"
   ]
  },
  {
   "cell_type": "markdown",
   "id": "ea77ef59",
   "metadata": {
    "papermill": {
     "duration": 0.007059,
     "end_time": "2023-11-06T09:40:02.391740",
     "exception": false,
     "start_time": "2023-11-06T09:40:02.384681",
     "status": "completed"
    },
    "tags": []
   },
   "source": [
    "**Exaplaination**\n",
    "\n",
    "1. `import numpy as np`: Imports the NumPy library and aliases it as `np`. NumPy is used for numerical computations in Python.\n",
    "\n",
    "2. `import lightgbm as lgb`: Imports the LightGBM library and aliases it as `lgb`. LightGBM is a gradient boosting framework for machine learning tasks.\n",
    "\n",
    "3. `from sklearn.metrics import mean_absolute_error`: Imports the `mean_absolute_error` function from the scikit-learn library, which is used for evaluating the model's performance.\n",
    "\n",
    "4. `import gc`: Imports the garbage collection module, which can be used to manually control memory management.\n",
    "\n",
    "5. `lgb_params = {...}`: Defines a dictionary named `lgb_params` that stores various parameters for configuring the LightGBM model. These parameters include the objective function, number of estimators, number of leaves, subsample rate, column subsample rate, learning rate, number of CPU cores to use, device type (GPU), verbosity level, and importance type.\n",
    "\n",
    "6. `feature_name = list(df_train_feats.columns)`: Creates a list of feature names from the columns of a DataFrame named `df_train_feats`. These feature names are used for training the model.\n",
    "\n",
    "7. `print(f\"Feature length = {len(feature_name)}\")`: Prints the number of features used for training the model.\n",
    "\n",
    "8. `num_folds = 5`: Sets the number of cross-validation folds to 5.\n",
    "\n",
    "9. `fold_size = 480 // num_folds`: Calculates the size of each fold. In this case, it's the total number of date_ids (480) divided by the number of folds (5).\n",
    "\n",
    "10. `gap = 5`: Sets the gap between the folds to 5 days.\n",
    "\n",
    "11. `models = []` and `scores = []`: Initialize empty lists to store trained models and their corresponding validation scores.\n",
    "\n",
    "12. `model_save_path = 'modelitos_para_despues'`: Defines a directory path for saving the trained models.\n",
    "\n",
    "13. `if not os.path.exists(model_save_path):`: Checks if the specified directory for saving models exists. If it doesn't exist, it's created.\n",
    "\n",
    "14. `date_ids = df_train['date_id'].values`: Extracts the 'date_id' values from a DataFrame named `df_train` and stores them in an array.\n",
    "\n",
    "15. A `for` loop that iterates through the specified number of folds (`num_folds`).\n",
    "\n",
    "16. Inside the loop, it calculates the start and end date_ids for the current fold and defines purged sets for training and testing. The purged sets exclude certain date_id ranges.\n",
    "\n",
    "17. It then defines test_indices and train_indices to split the data into test and training sets based on the date_ids.\n",
    "\n",
    "18. Data is split into training and testing subsets using these indices.\n",
    "\n",
    "19. The code then trains a LightGBM model for the current fold, stores it in the `models` list, saves the model to a file, and prints the fold's mean absolute error (MAE).\n",
    "\n",
    "20. After each fold, it frees up memory by deleting fold-specific variables and running garbage collection.\n",
    "\n",
    "21. After all folds are processed, it calculates the average best iteration for the models.\n",
    "\n",
    "22. It updates the `final_model_params` with the average best iteration.\n",
    "\n",
    "23. It trains the final model on the entire dataset and saves it.\n",
    "\n",
    "24. The final model is appended to the `models` list.\n",
    "\n",
    "25. Finally, the code prints the average MAE across all folds.\n",
    "\n",
    "Performs cross-validation using LightGBM models, saving each fold's model, and finally training a final model on the entire dataset. Also calculates and reports the average MAE as a performance metric."
   ]
  },
  {
   "cell_type": "code",
   "execution_count": null,
   "id": "d6a5f7b0",
   "metadata": {
    "execution": {
     "iopub.execute_input": "2023-11-06T09:40:02.407599Z",
     "iopub.status.busy": "2023-11-06T09:40:02.407294Z",
     "iopub.status.idle": "2023-11-06T11:08:08.940220Z",
     "shell.execute_reply": "2023-11-06T11:08:08.939187Z"
    },
    "papermill": {
     "duration": 5286.561536,
     "end_time": "2023-11-06T11:08:08.960535",
     "exception": false,
     "start_time": "2023-11-06T09:40:02.398999",
     "status": "completed"
    },
    "tags": []
   },
   "outputs": [
    {
     "name": "stdout",
     "output_type": "stream",
     "text": [
      "Feature length = 112\n"
     ]
    },
    {
     "name": "stdout",
     "output_type": "stream",
     "text": [
      "Fold 1 Model Training\n"
     ]
    },
    {
     "name": "stderr",
     "output_type": "stream",
     "text": [
      "[LightGBM] [Fatal] GPU Tree Learner was not enabled in this build.\n",
      "Please recompile with CMake option -DUSE_GPU=1\n"
     ]
    },
    {
     "ename": "LightGBMError",
     "evalue": "GPU Tree Learner was not enabled in this build.\nPlease recompile with CMake option -DUSE_GPU=1",
     "output_type": "error",
     "traceback": [
      "\u001b[0;31m---------------------------------------------------------------------------\u001b[0m",
      "\u001b[0;31mLightGBMError\u001b[0m                             Traceback (most recent call last)",
      "Cell \u001b[0;32mIn[9], line 64\u001b[0m\n\u001b[1;32m     62\u001b[0m \u001b[39m# Train a LightGBM model for the current fold\u001b[39;00m\n\u001b[1;32m     63\u001b[0m lgb_model \u001b[39m=\u001b[39m lgb\u001b[39m.\u001b[39mLGBMRegressor(\u001b[39m*\u001b[39m\u001b[39m*\u001b[39mlgb_params)\n\u001b[0;32m---> 64\u001b[0m lgb_model\u001b[39m.\u001b[39;49mfit(\n\u001b[1;32m     65\u001b[0m     df_fold_train[feature_name],\n\u001b[1;32m     66\u001b[0m     df_fold_train_target,\n\u001b[1;32m     67\u001b[0m     eval_set\u001b[39m=\u001b[39;49m[(df_fold_valid[feature_name], df_fold_valid_target)],\n\u001b[1;32m     68\u001b[0m     callbacks\u001b[39m=\u001b[39;49m[\n\u001b[1;32m     69\u001b[0m         lgb\u001b[39m.\u001b[39;49mcallback\u001b[39m.\u001b[39;49mearly_stopping(stopping_rounds\u001b[39m=\u001b[39;49m\u001b[39m100\u001b[39;49m),\n\u001b[1;32m     70\u001b[0m         lgb\u001b[39m.\u001b[39;49mcallback\u001b[39m.\u001b[39;49mlog_evaluation(period\u001b[39m=\u001b[39;49m\u001b[39m100\u001b[39;49m),\n\u001b[1;32m     71\u001b[0m     ],\n\u001b[1;32m     72\u001b[0m )\n\u001b[1;32m     74\u001b[0m \u001b[39m# Append the model to the list\u001b[39;00m\n\u001b[1;32m     75\u001b[0m models\u001b[39m.\u001b[39mappend(lgb_model)\n",
      "File \u001b[0;32m/opt/homebrew/lib/python3.11/site-packages/lightgbm/sklearn.py:1049\u001b[0m, in \u001b[0;36mLGBMRegressor.fit\u001b[0;34m(self, X, y, sample_weight, init_score, eval_set, eval_names, eval_sample_weight, eval_init_score, eval_metric, feature_name, categorical_feature, callbacks, init_model)\u001b[0m\n\u001b[1;32m   1032\u001b[0m \u001b[39mdef\u001b[39;00m \u001b[39mfit\u001b[39m(  \u001b[39m# type: ignore[override]\u001b[39;00m\n\u001b[1;32m   1033\u001b[0m     \u001b[39mself\u001b[39m,\n\u001b[1;32m   1034\u001b[0m     X: _LGBM_ScikitMatrixLike,\n\u001b[0;32m   (...)\u001b[0m\n\u001b[1;32m   1046\u001b[0m     init_model: Optional[Union[\u001b[39mstr\u001b[39m, Path, Booster, LGBMModel]] \u001b[39m=\u001b[39m \u001b[39mNone\u001b[39;00m\n\u001b[1;32m   1047\u001b[0m ) \u001b[39m-\u001b[39m\u001b[39m>\u001b[39m \u001b[39m\"\u001b[39m\u001b[39mLGBMRegressor\u001b[39m\u001b[39m\"\u001b[39m:\n\u001b[1;32m   1048\u001b[0m \u001b[39m    \u001b[39m\u001b[39m\"\"\"Docstring is inherited from the LGBMModel.\"\"\"\u001b[39;00m\n\u001b[0;32m-> 1049\u001b[0m     \u001b[39msuper\u001b[39;49m()\u001b[39m.\u001b[39;49mfit(\n\u001b[1;32m   1050\u001b[0m         X,\n\u001b[1;32m   1051\u001b[0m         y,\n\u001b[1;32m   1052\u001b[0m         sample_weight\u001b[39m=\u001b[39;49msample_weight,\n\u001b[1;32m   1053\u001b[0m         init_score\u001b[39m=\u001b[39;49minit_score,\n\u001b[1;32m   1054\u001b[0m         eval_set\u001b[39m=\u001b[39;49meval_set,\n\u001b[1;32m   1055\u001b[0m         eval_names\u001b[39m=\u001b[39;49meval_names,\n\u001b[1;32m   1056\u001b[0m         eval_sample_weight\u001b[39m=\u001b[39;49meval_sample_weight,\n\u001b[1;32m   1057\u001b[0m         eval_init_score\u001b[39m=\u001b[39;49meval_init_score,\n\u001b[1;32m   1058\u001b[0m         eval_metric\u001b[39m=\u001b[39;49meval_metric,\n\u001b[1;32m   1059\u001b[0m         feature_name\u001b[39m=\u001b[39;49mfeature_name,\n\u001b[1;32m   1060\u001b[0m         categorical_feature\u001b[39m=\u001b[39;49mcategorical_feature,\n\u001b[1;32m   1061\u001b[0m         callbacks\u001b[39m=\u001b[39;49mcallbacks,\n\u001b[1;32m   1062\u001b[0m         init_model\u001b[39m=\u001b[39;49minit_model\n\u001b[1;32m   1063\u001b[0m     )\n\u001b[1;32m   1064\u001b[0m     \u001b[39mreturn\u001b[39;00m \u001b[39mself\u001b[39m\n",
      "File \u001b[0;32m/opt/homebrew/lib/python3.11/site-packages/lightgbm/sklearn.py:842\u001b[0m, in \u001b[0;36mLGBMModel.fit\u001b[0;34m(self, X, y, sample_weight, init_score, group, eval_set, eval_names, eval_sample_weight, eval_class_weight, eval_init_score, eval_group, eval_metric, feature_name, categorical_feature, callbacks, init_model)\u001b[0m\n\u001b[1;32m    839\u001b[0m evals_result: _EvalResultDict \u001b[39m=\u001b[39m {}\n\u001b[1;32m    840\u001b[0m callbacks\u001b[39m.\u001b[39mappend(record_evaluation(evals_result))\n\u001b[0;32m--> 842\u001b[0m \u001b[39mself\u001b[39m\u001b[39m.\u001b[39m_Booster \u001b[39m=\u001b[39m train(\n\u001b[1;32m    843\u001b[0m     params\u001b[39m=\u001b[39;49mparams,\n\u001b[1;32m    844\u001b[0m     train_set\u001b[39m=\u001b[39;49mtrain_set,\n\u001b[1;32m    845\u001b[0m     num_boost_round\u001b[39m=\u001b[39;49m\u001b[39mself\u001b[39;49m\u001b[39m.\u001b[39;49mn_estimators,\n\u001b[1;32m    846\u001b[0m     valid_sets\u001b[39m=\u001b[39;49mvalid_sets,\n\u001b[1;32m    847\u001b[0m     valid_names\u001b[39m=\u001b[39;49meval_names,\n\u001b[1;32m    848\u001b[0m     feval\u001b[39m=\u001b[39;49meval_metrics_callable,  \u001b[39m# type: ignore[arg-type]\u001b[39;49;00m\n\u001b[1;32m    849\u001b[0m     init_model\u001b[39m=\u001b[39;49minit_model,\n\u001b[1;32m    850\u001b[0m     feature_name\u001b[39m=\u001b[39;49mfeature_name,\n\u001b[1;32m    851\u001b[0m     callbacks\u001b[39m=\u001b[39;49mcallbacks\n\u001b[1;32m    852\u001b[0m )\n\u001b[1;32m    854\u001b[0m \u001b[39mself\u001b[39m\u001b[39m.\u001b[39m_evals_result \u001b[39m=\u001b[39m evals_result\n\u001b[1;32m    855\u001b[0m \u001b[39mself\u001b[39m\u001b[39m.\u001b[39m_best_iteration \u001b[39m=\u001b[39m \u001b[39mself\u001b[39m\u001b[39m.\u001b[39m_Booster\u001b[39m.\u001b[39mbest_iteration\n",
      "File \u001b[0;32m/opt/homebrew/lib/python3.11/site-packages/lightgbm/engine.py:255\u001b[0m, in \u001b[0;36mtrain\u001b[0;34m(params, train_set, num_boost_round, valid_sets, valid_names, feval, init_model, feature_name, categorical_feature, keep_training_booster, callbacks)\u001b[0m\n\u001b[1;32m    253\u001b[0m \u001b[39m# construct booster\u001b[39;00m\n\u001b[1;32m    254\u001b[0m \u001b[39mtry\u001b[39;00m:\n\u001b[0;32m--> 255\u001b[0m     booster \u001b[39m=\u001b[39m Booster(params\u001b[39m=\u001b[39;49mparams, train_set\u001b[39m=\u001b[39;49mtrain_set)\n\u001b[1;32m    256\u001b[0m     \u001b[39mif\u001b[39;00m is_valid_contain_train:\n\u001b[1;32m    257\u001b[0m         booster\u001b[39m.\u001b[39mset_train_data_name(train_data_name)\n",
      "File \u001b[0;32m/opt/homebrew/lib/python3.11/site-packages/lightgbm/basic.py:3204\u001b[0m, in \u001b[0;36mBooster.__init__\u001b[0;34m(self, params, train_set, model_file, model_str)\u001b[0m\n\u001b[1;32m   3202\u001b[0m params\u001b[39m.\u001b[39mupdate(train_set\u001b[39m.\u001b[39mget_params())\n\u001b[1;32m   3203\u001b[0m params_str \u001b[39m=\u001b[39m _param_dict_to_str(params)\n\u001b[0;32m-> 3204\u001b[0m _safe_call(_LIB\u001b[39m.\u001b[39;49mLGBM_BoosterCreate(\n\u001b[1;32m   3205\u001b[0m     train_set\u001b[39m.\u001b[39;49m_handle,\n\u001b[1;32m   3206\u001b[0m     _c_str(params_str),\n\u001b[1;32m   3207\u001b[0m     ctypes\u001b[39m.\u001b[39;49mbyref(\u001b[39mself\u001b[39;49m\u001b[39m.\u001b[39;49m_handle)))\n\u001b[1;32m   3208\u001b[0m \u001b[39m# save reference to data\u001b[39;00m\n\u001b[1;32m   3209\u001b[0m \u001b[39mself\u001b[39m\u001b[39m.\u001b[39mtrain_set \u001b[39m=\u001b[39m train_set\n",
      "File \u001b[0;32m/opt/homebrew/lib/python3.11/site-packages/lightgbm/basic.py:242\u001b[0m, in \u001b[0;36m_safe_call\u001b[0;34m(ret)\u001b[0m\n\u001b[1;32m    234\u001b[0m \u001b[39m\u001b[39m\u001b[39m\"\"\"Check the return value from C API call.\u001b[39;00m\n\u001b[1;32m    235\u001b[0m \n\u001b[1;32m    236\u001b[0m \u001b[39mParameters\u001b[39;00m\n\u001b[0;32m   (...)\u001b[0m\n\u001b[1;32m    239\u001b[0m \u001b[39m    The return value from C API calls.\u001b[39;00m\n\u001b[1;32m    240\u001b[0m \u001b[39m\"\"\"\u001b[39;00m\n\u001b[1;32m    241\u001b[0m \u001b[39mif\u001b[39;00m ret \u001b[39m!=\u001b[39m \u001b[39m0\u001b[39m:\n\u001b[0;32m--> 242\u001b[0m     \u001b[39mraise\u001b[39;00m LightGBMError(_LIB\u001b[39m.\u001b[39mLGBM_GetLastError()\u001b[39m.\u001b[39mdecode(\u001b[39m'\u001b[39m\u001b[39mutf-8\u001b[39m\u001b[39m'\u001b[39m))\n",
      "\u001b[0;31mLightGBMError\u001b[0m: GPU Tree Learner was not enabled in this build.\nPlease recompile with CMake option -DUSE_GPU=1"
     ]
    }
   ],
   "source": [
    "import numpy as np\n",
    "import lightgbm as lgb\n",
    "from sklearn.metrics import mean_absolute_error\n",
    "import gc\n",
    "# parameters for LightGBM\n",
    "\n",
    "lgb_params = {\n",
    "    \"objective\": \"mae\",\n",
    "    \"n_estimators\": 5000,\n",
    "    \"num_leaves\": 256,\n",
    "    \"subsample\": 0.6,\n",
    "    \"colsample_bytree\": 0.6,\n",
    "    \"learning_rate\": 0.00871,\n",
    "    \"n_jobs\": 4,\n",
    "    \"device\": device,\n",
    "    \"verbosity\": -1,\n",
    "    \"importance_type\": \"gain\",\n",
    "}\n",
    "feature_name = list(df_train_feats.columns)\n",
    "print(f\"Feature length = {len(feature_name)}\")\n",
    "\n",
    "# The total number of date_ids is 480, we split them into 5 folds with a gap of 5 days in between\n",
    "num_folds = 5\n",
    "fold_size = 480 // num_folds\n",
    "gap = 5\n",
    "\n",
    "models = []\n",
    "scores = []\n",
    "\n",
    "model_save_path = 'modelitos_para_despues'  # Directory to save models\n",
    "if not os.path.exists(model_save_path):\n",
    "    os.makedirs(model_save_path)\n",
    "\n",
    "# We need to use the date_id from df_train to split the data\n",
    "date_ids = df_train['date_id'].values\n",
    "\n",
    "for i in range(num_folds):\n",
    "    start = i * fold_size\n",
    "    end = start + fold_size\n",
    "    \n",
    "    # Define the purged set ranges\n",
    "    purged_before_start = start - 2\n",
    "    purged_before_end = start + 2\n",
    "    purged_after_start = end - 2\n",
    "    purged_after_end = end + 2\n",
    "    \n",
    "    # Exclude the purged ranges from the test set\n",
    "    purged_set = ((date_ids >= purged_before_start) & (date_ids <= purged_before_end)) | \\\n",
    "                 ((date_ids >= purged_after_start) & (date_ids <= purged_after_end))\n",
    "    \n",
    "    # Define test_indices excluding the purged set\n",
    "    test_indices = (date_ids >= start) & (date_ids < end) & ~purged_set\n",
    "    train_indices = ~test_indices & ~purged_set\n",
    "    \n",
    "    df_fold_train = df_train_feats[train_indices]\n",
    "    df_fold_train_target = df_train['target'][train_indices]\n",
    "    df_fold_valid = df_train_feats[test_indices]\n",
    "    df_fold_valid_target = df_train['target'][test_indices]\n",
    "\n",
    "    print(f\"Fold {i+1} Model Training\")\n",
    "    \n",
    "    # Train a LightGBM model for the current fold\n",
    "    lgb_model = lgb.LGBMRegressor(**lgb_params)\n",
    "    lgb_model.fit(\n",
    "        df_fold_train[feature_name],\n",
    "        df_fold_train_target,\n",
    "        eval_set=[(df_fold_valid[feature_name], df_fold_valid_target)],\n",
    "        callbacks=[\n",
    "            lgb.callback.early_stopping(stopping_rounds=100),\n",
    "            lgb.callback.log_evaluation(period=100),\n",
    "        ],\n",
    "    )\n",
    "\n",
    "    # Append the model to the list\n",
    "    models.append(lgb_model)\n",
    "    # Save the model to a file\n",
    "    model_filename = os.path.join(model_save_path, f'doblez_{i+1}.txt')\n",
    "    lgb_model.booster_.save_model(model_filename)\n",
    "    print(f\"Model for fold {i+1} saved to {model_filename}\")\n",
    "\n",
    "    # Evaluate model performance on the validation set\n",
    "    fold_predictions = lgb_model.predict(df_fold_valid[feature_name])\n",
    "    fold_score = mean_absolute_error(fold_predictions, df_fold_valid_target)\n",
    "    scores.append(fold_score)\n",
    "    print(f\"Fold {i+1} MAE: {fold_score}\")\n",
    "\n",
    "    # Free up memory by deleting fold specific variables\n",
    "    del df_fold_train, df_fold_train_target, df_fold_valid, df_fold_valid_target\n",
    "    gc.collect()\n",
    "\n",
    "# Calculate the average best iteration from all regular folds\n",
    "average_best_iteration = int(np.mean([model.best_iteration_ for model in models]))\n",
    "\n",
    "# Update the lgb_params with the average best iteration\n",
    "final_model_params = lgb_params.copy()\n",
    "final_model_params['n_estimators'] = average_best_iteration\n",
    "\n",
    "print(f\"Training final model with average best iteration: {average_best_iteration}\")\n",
    "\n",
    "# Train the final model on the entire dataset\n",
    "final_model = lgb.LGBMRegressor(**final_model_params)\n",
    "final_model.fit(\n",
    "    df_train_feats[feature_name],\n",
    "    df_train['target'],\n",
    "    callbacks=[\n",
    "        lgb.callback.log_evaluation(period=100),\n",
    "    ],\n",
    ")\n",
    "\n",
    "# Append the final model to the list of models\n",
    "models.append(final_model)\n",
    "\n",
    "# Save the final model to a file\n",
    "final_model_filename = os.path.join(model_save_path, 'doblez-conjunto.txt')\n",
    "final_model.booster_.save_model(final_model_filename)\n",
    "print(f\"Final model saved to {final_model_filename}\")\n",
    "\n",
    "# Now 'models' holds the trained models for each fold and 'scores' holds the validation scores\n",
    "print(f\"Average MAE across all folds: {np.mean(scores)}\")"
   ]
  },
  {
   "cell_type": "markdown",
   "id": "96c4c1b7",
   "metadata": {
    "papermill": {
     "duration": 0.017676,
     "end_time": "2023-11-06T11:08:08.996239",
     "exception": false,
     "start_time": "2023-11-06T11:08:08.978563",
     "status": "completed"
    },
    "tags": []
   },
   "source": [
    "**Explaination**\n",
    "\n",
    "This code block is responsible for making predictions in inference mode and submitting them to the Optiver 2023 competition environment. \n",
    "\n",
    "1. `def zero_sum(prices, volumes):`\n",
    "   - This function takes two NumPy arrays, `prices` and `volumes`, as input.\n",
    "   - It calculates the standard error as the square root of the `volumes`.\n",
    "   - It calculates a variable `step` by dividing the sum of `prices` by the sum of the standard errors (`std_error`).\n",
    "   - It calculates the `out` variable as the difference between the `prices` and the product of the `std_error` and the `step`.\n",
    "   - The function returns the `out` variable.\n",
    "\n",
    "2. `if is_infer:`\n",
    "   - This condition checks if the variable `is_infer` is `True`. If it is `True`, it means that the code is being executed in inference mode.\n",
    "\n",
    "3. Inside the `if is_infer:` block:\n",
    "   - The code imports the `optiver2023` module and creates an environment (`env`) for the Optiver 2023 competition.\n",
    "\n",
    "4. It initializes variables, including an iterator (`iter_test`), a counter (`counter`), and variables for specifying the lower and upper limits of predictions (`y_min` and `y_max`).\n",
    "\n",
    "5. It also initializes lists for recording queries per second (`qps`) and a DataFrame (`cache`) to store test data.\n",
    "\n",
    "6. The code enters a loop that iterates through the test data provided by the environment.\n",
    "\n",
    "7. Inside the loop:\n",
    "   - It records the current time (`now_time`) using the `time.time()` function.\n",
    "   - It concatenates the current test data with the existing cache of data.\n",
    "   - It keeps only the most recent 21 rows for each stock and sorts them.\n",
    "   - It generates features for the current test data using the `generate_all_features` function.\n",
    "\n",
    "8. It makes predictions using the previously trained inference LightGBM model (`infer_lgb_model`).\n",
    "\n",
    "9. It applies the `zero_sum` function to transform the predictions.\n",
    "\n",
    "10. It clips the transformed predictions to ensure they fall within the specified range defined by `y_min` and `y_max`.\n",
    "\n",
    "11. It updates the sample prediction with the clipped values.\n",
    "\n",
    "12. It submits the predictions to the environment using the `env.predict()` method.\n",
    "\n",
    "13. It updates the counter and records the time spent on each iteration in the `qps` list.\n",
    "\n",
    "14. It prints the current iteration number and the average queries per second (qps) if the counter is a multiple of 10.\n",
    "\n",
    "15. After processing all test data, it calculates the estimated time cost based on the average qps and prints the estimated time to reason about.\n",
    "\n",
    "This code is designed for making predictions in an Optiver trading competition environment and uses a trained LightGBM model for inference. It also includes a transformation step (`zero_sum`) and clipping of predictions to ensure they are within a specified range before submitting them to the competition environment."
   ]
  },
  {
   "cell_type": "code",
   "execution_count": null,
   "id": "7346d314",
   "metadata": {
    "execution": {
     "iopub.execute_input": "2023-11-06T11:08:09.033446Z",
     "iopub.status.busy": "2023-11-06T11:08:09.033142Z",
     "iopub.status.idle": "2023-11-06T11:09:28.793783Z",
     "shell.execute_reply": "2023-11-06T11:09:28.792853Z"
    },
    "papermill": {
     "duration": 79.781958,
     "end_time": "2023-11-06T11:09:28.795977",
     "exception": false,
     "start_time": "2023-11-06T11:08:09.014019",
     "status": "completed"
    },
    "tags": []
   },
   "outputs": [
    {
     "name": "stdout",
     "output_type": "stream",
     "text": [
      "This version of the API is not optimized and should not be used to estimate the runtime of your code on the hidden test set.\n",
      "10 qps: 0.517981743812561\n",
      "20 qps: 0.5042877674102784\n",
      "30 qps: 0.4952155431111654\n",
      "40 qps: 0.4872405111789703\n",
      "50 qps: 0.48434205532073976\n",
      "60 qps: 0.4798577070236206\n",
      "70 qps: 0.4784718036651611\n",
      "80 qps: 0.47754046618938445\n",
      "90 qps: 0.48067618476019963\n",
      "100 qps: 0.4795055651664734\n",
      "110 qps: 0.47789993286132815\n",
      "120 qps: 0.47667590777079266\n",
      "130 qps: 0.4758473322941707\n",
      "140 qps: 0.47584942068372454\n",
      "150 qps: 0.4751476287841797\n",
      "160 qps: 0.4778855204582214\n",
      "The code will take approximately 0.547 hours to reason about\n"
     ]
    }
   ],
   "source": [
    "def zero_sum(prices, volumes):\n",
    "    std_error = np.sqrt(volumes)\n",
    "    step = np.sum(prices) / np.sum(std_error)\n",
    "    out = prices - std_error * step\n",
    "    return out\n",
    "\n",
    "if is_infer:\n",
    "    import optiver2023\n",
    "    env = optiver2023.make_env()\n",
    "    iter_test = env.iter_test()\n",
    "    counter = 0\n",
    "    y_min, y_max = -64, 64\n",
    "    qps, predictions = [], []\n",
    "    cache = pd.DataFrame()\n",
    "\n",
    "    # Weights for each fold model\n",
    "    model_weights = [1/len(models)] * len(models) \n",
    "    \n",
    "    for (test, revealed_targets, sample_prediction) in iter_test:\n",
    "        now_time = time.time()\n",
    "        cache = pd.concat([cache, test], ignore_index=True, axis=0)\n",
    "        if counter > 0:\n",
    "            cache = cache.groupby(['stock_id']).tail(21).sort_values(by=['date_id', 'seconds_in_bucket', 'stock_id']).reset_index(drop=True)\n",
    "        feat = generate_all_features(cache)[-len(test):]\n",
    "\n",
    "        # Generate predictions for each model and calculate the weighted average\n",
    "        lgb_predictions = np.zeros(len(test))\n",
    "        for model, weight in zip(models, model_weights):\n",
    "            lgb_predictions += weight * model.predict(feat)\n",
    "\n",
    "        lgb_predictions = zero_sum(lgb_predictions, test['bid_size'] + test['ask_size'])\n",
    "        clipped_predictions = np.clip(lgb_predictions, y_min, y_max)\n",
    "        sample_prediction['target'] = clipped_predictions\n",
    "        env.predict(sample_prediction)\n",
    "        counter += 1\n",
    "        qps.append(time.time() - now_time)\n",
    "        if counter % 10 == 0:\n",
    "            print(counter, 'qps:', np.mean(qps))\n",
    "\n",
    "    time_cost = 1.146 * np.mean(qps)\n",
    "    print(f\"The code will take approximately {np.round(time_cost, 4)} hours to reason about\")"
   ]
  },
  {
   "cell_type": "markdown",
   "id": "8aa01ca9",
   "metadata": {
    "papermill": {
     "duration": 0.019167,
     "end_time": "2023-11-06T11:09:28.835459",
     "exception": false,
     "start_time": "2023-11-06T11:09:28.816292",
     "status": "completed"
    },
    "tags": []
   },
   "source": [
    "## Keep Exploring! 👀\n",
    "\n",
    "If you enjoyed exploring this notebook and found it insightful, I encourage you to delve further into my portfolio.\n",
    "\n",
    "👉 [Explore My Portfolio](https://www.kaggle.com/zulqarnainali) 👈\n",
    "\n",
    "## Share Your Feedback and Gratitude 🙏\n",
    "\n",
    "Your feedback is invaluable to us! We welcome your insights, suggestions, and questions as they fuel our continuous growth. If you have any comments or ideas to share, please feel free to get in touch with us.\n",
    "\n",
    "📬 Contact us via email: [zulqar445ali@gmail.com](mailto:zulqar445ali@gmail.com)\n",
    "\n",
    "We extend our heartfelt gratitude for your time and engagement. Your support inspires us to generate more valuable content.\n",
    "\n",
    "Wishing you a rewarding journey in the realm of data science and coding! 🚀"
   ]
  }
 ],
 "metadata": {
  "kernelspec": {
   "display_name": "Python 3",
   "language": "python",
   "name": "python3"
  },
  "language_info": {
   "codemirror_mode": {
    "name": "ipython",
    "version": 3
   },
   "file_extension": ".py",
   "mimetype": "text/x-python",
   "name": "python",
   "nbconvert_exporter": "python",
   "pygments_lexer": "ipython3",
   "version": "3.11.5"
  },
  "papermill": {
   "default_parameters": {},
   "duration": 5453.823242,
   "end_time": "2023-11-06T11:09:30.386924",
   "environment_variables": {},
   "exception": null,
   "input_path": "__notebook__.ipynb",
   "output_path": "__notebook__.ipynb",
   "parameters": {},
   "start_time": "2023-11-06T09:38:36.563682",
   "version": "2.4.0"
  }
 },
 "nbformat": 4,
 "nbformat_minor": 5
}
